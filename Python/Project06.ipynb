{
  "nbformat": 4,
  "nbformat_minor": 0,
  "metadata": {
    "colab": {
      "provenance": [],
      "authorship_tag": "ABX9TyPPlAOT4HtoX+QisxvhNyOT",
      "include_colab_link": true
    },
    "kernelspec": {
      "name": "python3",
      "display_name": "Python 3"
    },
    "language_info": {
      "name": "python"
    }
  },
  "cells": [
    {
      "cell_type": "markdown",
      "metadata": {
        "id": "view-in-github",
        "colab_type": "text"
      },
      "source": [
        "<a href=\"https://colab.research.google.com/github/chanxxw/AIFFEL_quest_cr/blob/master/Python/Project06.ipynb\" target=\"_parent\"><img src=\"https://colab.research.google.com/assets/colab-badge.svg\" alt=\"Open In Colab\"/></a>"
      ]
    },
    {
      "cell_type": "markdown",
      "source": [
        "# Project 01"
      ],
      "metadata": {
        "id": "jWHiYbzUPeib"
      }
    },
    {
      "cell_type": "code",
      "execution_count": 31,
      "metadata": {
        "colab": {
          "base_uri": "https://localhost:8080/"
        },
        "id": "t--XgjDDILGm",
        "outputId": "4e40862f-2e05-45c9-e6fc-a78e4178cb15"
      },
      "outputs": [
        {
          "output_type": "stream",
          "name": "stdout",
          "text": [
            "1.3.2\n"
          ]
        }
      ],
      "source": [
        "import sklearn\n",
        "print(sklearn.__version__)"
      ]
    },
    {
      "cell_type": "code",
      "source": [
        "from sklearn.datasets import load_digits\n",
        "from sklearn.model_selection import train_test_split\n",
        "from sklearn.metrics import classification_report\n",
        "import pandas as pd\n",
        "import numpy as np"
      ],
      "metadata": {
        "id": "FM6h9p4EIXbL"
      },
      "execution_count": 32,
      "outputs": []
    },
    {
      "cell_type": "code",
      "source": [
        "type(load_digits) # 타입 확인"
      ],
      "metadata": {
        "colab": {
          "base_uri": "https://localhost:8080/"
        },
        "id": "abBg5Y53Ib5p",
        "outputId": "d341d00d-03ec-4e18-f742-4da2d46c7010"
      },
      "execution_count": 33,
      "outputs": [
        {
          "output_type": "execute_result",
          "data": {
            "text/plain": [
              "function"
            ]
          },
          "metadata": {},
          "execution_count": 33
        }
      ]
    },
    {
      "cell_type": "code",
      "source": [
        "digits=load_digits() # digit 내용을 불러와서 저장하기"
      ],
      "metadata": {
        "id": "zfD2Ac_kJE9U"
      },
      "execution_count": 34,
      "outputs": []
    },
    {
      "cell_type": "code",
      "source": [
        "digits.keys() # dataset 정보 종류 확인"
      ],
      "metadata": {
        "colab": {
          "base_uri": "https://localhost:8080/"
        },
        "id": "ao35TvWlKJ4q",
        "outputId": "e36bf31a-9df1-4642-b4c4-e6e554bab6ab"
      },
      "execution_count": 35,
      "outputs": [
        {
          "output_type": "execute_result",
          "data": {
            "text/plain": [
              "dict_keys(['data', 'target', 'frame', 'feature_names', 'target_names', 'images', 'DESCR'])"
            ]
          },
          "metadata": {},
          "execution_count": 35
        }
      ]
    },
    {
      "cell_type": "code",
      "source": [
        "digits.data # digits의 실제 데이터 확인"
      ],
      "metadata": {
        "colab": {
          "base_uri": "https://localhost:8080/"
        },
        "id": "TEAM_vGEKM_F",
        "outputId": "064896c3-5804-4769-ec71-6597b1b19fb8"
      },
      "execution_count": 36,
      "outputs": [
        {
          "output_type": "execute_result",
          "data": {
            "text/plain": [
              "array([[ 0.,  0.,  5., ...,  0.,  0.,  0.],\n",
              "       [ 0.,  0.,  0., ..., 10.,  0.,  0.],\n",
              "       [ 0.,  0.,  0., ..., 16.,  9.,  0.],\n",
              "       ...,\n",
              "       [ 0.,  0.,  1., ...,  6.,  0.,  0.],\n",
              "       [ 0.,  0.,  2., ..., 12.,  0.,  0.],\n",
              "       [ 0.,  0., 10., ..., 12.,  1.,  0.]])"
            ]
          },
          "metadata": {},
          "execution_count": 36
        }
      ]
    },
    {
      "cell_type": "code",
      "source": [
        "digits_data=digits.data # digits의 data를 digits_data에 저장\n",
        "digits_label = digits.target # key에서 확인한 정보중 target을 digits_label 변수에 저장"
      ],
      "metadata": {
        "id": "6vs4mDv-MFrf"
      },
      "execution_count": 37,
      "outputs": []
    },
    {
      "cell_type": "code",
      "source": [
        "digits_label # digit의 subgroup 종류 (=digit.target)"
      ],
      "metadata": {
        "colab": {
          "base_uri": "https://localhost:8080/"
        },
        "id": "5UiuR19cKPAR",
        "outputId": "e21a971a-977f-4444-a87b-721f634fa2d5"
      },
      "execution_count": 39,
      "outputs": [
        {
          "output_type": "execute_result",
          "data": {
            "text/plain": [
              "array([0, 1, 2, ..., 8, 9, 8])"
            ]
          },
          "metadata": {},
          "execution_count": 39
        }
      ]
    },
    {
      "cell_type": "code",
      "source": [
        "digits.feature_names # digit data의 이름"
      ],
      "metadata": {
        "colab": {
          "base_uri": "https://localhost:8080/"
        },
        "id": "4Uhk2pQDKQoJ",
        "outputId": "32af55d0-9c00-4c8f-c570-bfe77689e0f6"
      },
      "execution_count": 40,
      "outputs": [
        {
          "output_type": "execute_result",
          "data": {
            "text/plain": [
              "['pixel_0_0',\n",
              " 'pixel_0_1',\n",
              " 'pixel_0_2',\n",
              " 'pixel_0_3',\n",
              " 'pixel_0_4',\n",
              " 'pixel_0_5',\n",
              " 'pixel_0_6',\n",
              " 'pixel_0_7',\n",
              " 'pixel_1_0',\n",
              " 'pixel_1_1',\n",
              " 'pixel_1_2',\n",
              " 'pixel_1_3',\n",
              " 'pixel_1_4',\n",
              " 'pixel_1_5',\n",
              " 'pixel_1_6',\n",
              " 'pixel_1_7',\n",
              " 'pixel_2_0',\n",
              " 'pixel_2_1',\n",
              " 'pixel_2_2',\n",
              " 'pixel_2_3',\n",
              " 'pixel_2_4',\n",
              " 'pixel_2_5',\n",
              " 'pixel_2_6',\n",
              " 'pixel_2_7',\n",
              " 'pixel_3_0',\n",
              " 'pixel_3_1',\n",
              " 'pixel_3_2',\n",
              " 'pixel_3_3',\n",
              " 'pixel_3_4',\n",
              " 'pixel_3_5',\n",
              " 'pixel_3_6',\n",
              " 'pixel_3_7',\n",
              " 'pixel_4_0',\n",
              " 'pixel_4_1',\n",
              " 'pixel_4_2',\n",
              " 'pixel_4_3',\n",
              " 'pixel_4_4',\n",
              " 'pixel_4_5',\n",
              " 'pixel_4_6',\n",
              " 'pixel_4_7',\n",
              " 'pixel_5_0',\n",
              " 'pixel_5_1',\n",
              " 'pixel_5_2',\n",
              " 'pixel_5_3',\n",
              " 'pixel_5_4',\n",
              " 'pixel_5_5',\n",
              " 'pixel_5_6',\n",
              " 'pixel_5_7',\n",
              " 'pixel_6_0',\n",
              " 'pixel_6_1',\n",
              " 'pixel_6_2',\n",
              " 'pixel_6_3',\n",
              " 'pixel_6_4',\n",
              " 'pixel_6_5',\n",
              " 'pixel_6_6',\n",
              " 'pixel_6_7',\n",
              " 'pixel_7_0',\n",
              " 'pixel_7_1',\n",
              " 'pixel_7_2',\n",
              " 'pixel_7_3',\n",
              " 'pixel_7_4',\n",
              " 'pixel_7_5',\n",
              " 'pixel_7_6',\n",
              " 'pixel_7_7']"
            ]
          },
          "metadata": {},
          "execution_count": 40
        }
      ]
    },
    {
      "cell_type": "code",
      "source": [
        "digits.filename # 오류군 왜지??"
      ],
      "metadata": {
        "colab": {
          "base_uri": "https://localhost:8080/",
          "height": 418
        },
        "id": "AdhNPgDVKT78",
        "outputId": "d5851eef-fc6c-44bc-fda9-cf623c94e84f"
      },
      "execution_count": 41,
      "outputs": [
        {
          "output_type": "error",
          "ename": "AttributeError",
          "evalue": "filename",
          "traceback": [
            "\u001b[0;31m---------------------------------------------------------------------------\u001b[0m",
            "\u001b[0;31mKeyError\u001b[0m                                  Traceback (most recent call last)",
            "\u001b[0;32m/usr/local/lib/python3.10/dist-packages/sklearn/utils/_bunch.py\u001b[0m in \u001b[0;36m__getattr__\u001b[0;34m(self, key)\u001b[0m\n\u001b[1;32m     53\u001b[0m         \u001b[0;32mtry\u001b[0m\u001b[0;34m:\u001b[0m\u001b[0;34m\u001b[0m\u001b[0;34m\u001b[0m\u001b[0m\n\u001b[0;32m---> 54\u001b[0;31m             \u001b[0;32mreturn\u001b[0m \u001b[0mself\u001b[0m\u001b[0;34m[\u001b[0m\u001b[0mkey\u001b[0m\u001b[0;34m]\u001b[0m\u001b[0;34m\u001b[0m\u001b[0;34m\u001b[0m\u001b[0m\n\u001b[0m\u001b[1;32m     55\u001b[0m         \u001b[0;32mexcept\u001b[0m \u001b[0mKeyError\u001b[0m\u001b[0;34m:\u001b[0m\u001b[0;34m\u001b[0m\u001b[0;34m\u001b[0m\u001b[0m\n",
            "\u001b[0;32m/usr/local/lib/python3.10/dist-packages/sklearn/utils/_bunch.py\u001b[0m in \u001b[0;36m__getitem__\u001b[0;34m(self, key)\u001b[0m\n\u001b[1;32m     38\u001b[0m             )\n\u001b[0;32m---> 39\u001b[0;31m         \u001b[0;32mreturn\u001b[0m \u001b[0msuper\u001b[0m\u001b[0;34m(\u001b[0m\u001b[0;34m)\u001b[0m\u001b[0;34m.\u001b[0m\u001b[0m__getitem__\u001b[0m\u001b[0;34m(\u001b[0m\u001b[0mkey\u001b[0m\u001b[0;34m)\u001b[0m\u001b[0;34m\u001b[0m\u001b[0;34m\u001b[0m\u001b[0m\n\u001b[0m\u001b[1;32m     40\u001b[0m \u001b[0;34m\u001b[0m\u001b[0m\n",
            "\u001b[0;31mKeyError\u001b[0m: 'filename'",
            "\nDuring handling of the above exception, another exception occurred:\n",
            "\u001b[0;31mAttributeError\u001b[0m                            Traceback (most recent call last)",
            "\u001b[0;32m<ipython-input-41-47c45b2c13d6>\u001b[0m in \u001b[0;36m<cell line: 1>\u001b[0;34m()\u001b[0m\n\u001b[0;32m----> 1\u001b[0;31m \u001b[0mdigits\u001b[0m\u001b[0;34m.\u001b[0m\u001b[0mfilename\u001b[0m \u001b[0;31m# 오류군 왜지??\u001b[0m\u001b[0;34m\u001b[0m\u001b[0;34m\u001b[0m\u001b[0m\n\u001b[0m",
            "\u001b[0;32m/usr/local/lib/python3.10/dist-packages/sklearn/utils/_bunch.py\u001b[0m in \u001b[0;36m__getattr__\u001b[0;34m(self, key)\u001b[0m\n\u001b[1;32m     54\u001b[0m             \u001b[0;32mreturn\u001b[0m \u001b[0mself\u001b[0m\u001b[0;34m[\u001b[0m\u001b[0mkey\u001b[0m\u001b[0;34m]\u001b[0m\u001b[0;34m\u001b[0m\u001b[0;34m\u001b[0m\u001b[0m\n\u001b[1;32m     55\u001b[0m         \u001b[0;32mexcept\u001b[0m \u001b[0mKeyError\u001b[0m\u001b[0;34m:\u001b[0m\u001b[0;34m\u001b[0m\u001b[0;34m\u001b[0m\u001b[0m\n\u001b[0;32m---> 56\u001b[0;31m             \u001b[0;32mraise\u001b[0m \u001b[0mAttributeError\u001b[0m\u001b[0;34m(\u001b[0m\u001b[0mkey\u001b[0m\u001b[0;34m)\u001b[0m\u001b[0;34m\u001b[0m\u001b[0;34m\u001b[0m\u001b[0m\n\u001b[0m\u001b[1;32m     57\u001b[0m \u001b[0;34m\u001b[0m\u001b[0m\n\u001b[1;32m     58\u001b[0m     \u001b[0;32mdef\u001b[0m \u001b[0m__setstate__\u001b[0m\u001b[0;34m(\u001b[0m\u001b[0mself\u001b[0m\u001b[0;34m,\u001b[0m \u001b[0mstate\u001b[0m\u001b[0;34m)\u001b[0m\u001b[0;34m:\u001b[0m\u001b[0;34m\u001b[0m\u001b[0;34m\u001b[0m\u001b[0m\n",
            "\u001b[0;31mAttributeError\u001b[0m: filename"
          ]
        }
      ]
    },
    {
      "cell_type": "code",
      "source": [
        "digits_df = pd.DataFrame(data=digits.data, columns=digits.feature_names) #데이터프레임 소환, 이것땜에 위에 판다스 추가 import\n",
        "digits_df['label'] = digits.target # 라벨 추가(정답지)\n",
        "digits_df.head() # 상위 5개만 확인해보기"
      ],
      "metadata": {
        "colab": {
          "base_uri": "https://localhost:8080/",
          "height": 256
        },
        "id": "1RPGfDusJJzq",
        "outputId": "619871bd-cfa8-4f1d-ab18-3b6a944a5724"
      },
      "execution_count": 42,
      "outputs": [
        {
          "output_type": "execute_result",
          "data": {
            "text/plain": [
              "   pixel_0_0  pixel_0_1  pixel_0_2  pixel_0_3  pixel_0_4  pixel_0_5  \\\n",
              "0        0.0        0.0        5.0       13.0        9.0        1.0   \n",
              "1        0.0        0.0        0.0       12.0       13.0        5.0   \n",
              "2        0.0        0.0        0.0        4.0       15.0       12.0   \n",
              "3        0.0        0.0        7.0       15.0       13.0        1.0   \n",
              "4        0.0        0.0        0.0        1.0       11.0        0.0   \n",
              "\n",
              "   pixel_0_6  pixel_0_7  pixel_1_0  pixel_1_1  ...  pixel_6_7  pixel_7_0  \\\n",
              "0        0.0        0.0        0.0        0.0  ...        0.0        0.0   \n",
              "1        0.0        0.0        0.0        0.0  ...        0.0        0.0   \n",
              "2        0.0        0.0        0.0        0.0  ...        0.0        0.0   \n",
              "3        0.0        0.0        0.0        8.0  ...        0.0        0.0   \n",
              "4        0.0        0.0        0.0        0.0  ...        0.0        0.0   \n",
              "\n",
              "   pixel_7_1  pixel_7_2  pixel_7_3  pixel_7_4  pixel_7_5  pixel_7_6  \\\n",
              "0        0.0        6.0       13.0       10.0        0.0        0.0   \n",
              "1        0.0        0.0       11.0       16.0       10.0        0.0   \n",
              "2        0.0        0.0        3.0       11.0       16.0        9.0   \n",
              "3        0.0        7.0       13.0       13.0        9.0        0.0   \n",
              "4        0.0        0.0        2.0       16.0        4.0        0.0   \n",
              "\n",
              "   pixel_7_7  label  \n",
              "0        0.0      0  \n",
              "1        0.0      1  \n",
              "2        0.0      2  \n",
              "3        0.0      3  \n",
              "4        0.0      4  \n",
              "\n",
              "[5 rows x 65 columns]"
            ],
            "text/html": [
              "\n",
              "  <div id=\"df-8b74c914-6ce5-4e3e-b05d-ed343c05f37e\" class=\"colab-df-container\">\n",
              "    <div>\n",
              "<style scoped>\n",
              "    .dataframe tbody tr th:only-of-type {\n",
              "        vertical-align: middle;\n",
              "    }\n",
              "\n",
              "    .dataframe tbody tr th {\n",
              "        vertical-align: top;\n",
              "    }\n",
              "\n",
              "    .dataframe thead th {\n",
              "        text-align: right;\n",
              "    }\n",
              "</style>\n",
              "<table border=\"1\" class=\"dataframe\">\n",
              "  <thead>\n",
              "    <tr style=\"text-align: right;\">\n",
              "      <th></th>\n",
              "      <th>pixel_0_0</th>\n",
              "      <th>pixel_0_1</th>\n",
              "      <th>pixel_0_2</th>\n",
              "      <th>pixel_0_3</th>\n",
              "      <th>pixel_0_4</th>\n",
              "      <th>pixel_0_5</th>\n",
              "      <th>pixel_0_6</th>\n",
              "      <th>pixel_0_7</th>\n",
              "      <th>pixel_1_0</th>\n",
              "      <th>pixel_1_1</th>\n",
              "      <th>...</th>\n",
              "      <th>pixel_6_7</th>\n",
              "      <th>pixel_7_0</th>\n",
              "      <th>pixel_7_1</th>\n",
              "      <th>pixel_7_2</th>\n",
              "      <th>pixel_7_3</th>\n",
              "      <th>pixel_7_4</th>\n",
              "      <th>pixel_7_5</th>\n",
              "      <th>pixel_7_6</th>\n",
              "      <th>pixel_7_7</th>\n",
              "      <th>label</th>\n",
              "    </tr>\n",
              "  </thead>\n",
              "  <tbody>\n",
              "    <tr>\n",
              "      <th>0</th>\n",
              "      <td>0.0</td>\n",
              "      <td>0.0</td>\n",
              "      <td>5.0</td>\n",
              "      <td>13.0</td>\n",
              "      <td>9.0</td>\n",
              "      <td>1.0</td>\n",
              "      <td>0.0</td>\n",
              "      <td>0.0</td>\n",
              "      <td>0.0</td>\n",
              "      <td>0.0</td>\n",
              "      <td>...</td>\n",
              "      <td>0.0</td>\n",
              "      <td>0.0</td>\n",
              "      <td>0.0</td>\n",
              "      <td>6.0</td>\n",
              "      <td>13.0</td>\n",
              "      <td>10.0</td>\n",
              "      <td>0.0</td>\n",
              "      <td>0.0</td>\n",
              "      <td>0.0</td>\n",
              "      <td>0</td>\n",
              "    </tr>\n",
              "    <tr>\n",
              "      <th>1</th>\n",
              "      <td>0.0</td>\n",
              "      <td>0.0</td>\n",
              "      <td>0.0</td>\n",
              "      <td>12.0</td>\n",
              "      <td>13.0</td>\n",
              "      <td>5.0</td>\n",
              "      <td>0.0</td>\n",
              "      <td>0.0</td>\n",
              "      <td>0.0</td>\n",
              "      <td>0.0</td>\n",
              "      <td>...</td>\n",
              "      <td>0.0</td>\n",
              "      <td>0.0</td>\n",
              "      <td>0.0</td>\n",
              "      <td>0.0</td>\n",
              "      <td>11.0</td>\n",
              "      <td>16.0</td>\n",
              "      <td>10.0</td>\n",
              "      <td>0.0</td>\n",
              "      <td>0.0</td>\n",
              "      <td>1</td>\n",
              "    </tr>\n",
              "    <tr>\n",
              "      <th>2</th>\n",
              "      <td>0.0</td>\n",
              "      <td>0.0</td>\n",
              "      <td>0.0</td>\n",
              "      <td>4.0</td>\n",
              "      <td>15.0</td>\n",
              "      <td>12.0</td>\n",
              "      <td>0.0</td>\n",
              "      <td>0.0</td>\n",
              "      <td>0.0</td>\n",
              "      <td>0.0</td>\n",
              "      <td>...</td>\n",
              "      <td>0.0</td>\n",
              "      <td>0.0</td>\n",
              "      <td>0.0</td>\n",
              "      <td>0.0</td>\n",
              "      <td>3.0</td>\n",
              "      <td>11.0</td>\n",
              "      <td>16.0</td>\n",
              "      <td>9.0</td>\n",
              "      <td>0.0</td>\n",
              "      <td>2</td>\n",
              "    </tr>\n",
              "    <tr>\n",
              "      <th>3</th>\n",
              "      <td>0.0</td>\n",
              "      <td>0.0</td>\n",
              "      <td>7.0</td>\n",
              "      <td>15.0</td>\n",
              "      <td>13.0</td>\n",
              "      <td>1.0</td>\n",
              "      <td>0.0</td>\n",
              "      <td>0.0</td>\n",
              "      <td>0.0</td>\n",
              "      <td>8.0</td>\n",
              "      <td>...</td>\n",
              "      <td>0.0</td>\n",
              "      <td>0.0</td>\n",
              "      <td>0.0</td>\n",
              "      <td>7.0</td>\n",
              "      <td>13.0</td>\n",
              "      <td>13.0</td>\n",
              "      <td>9.0</td>\n",
              "      <td>0.0</td>\n",
              "      <td>0.0</td>\n",
              "      <td>3</td>\n",
              "    </tr>\n",
              "    <tr>\n",
              "      <th>4</th>\n",
              "      <td>0.0</td>\n",
              "      <td>0.0</td>\n",
              "      <td>0.0</td>\n",
              "      <td>1.0</td>\n",
              "      <td>11.0</td>\n",
              "      <td>0.0</td>\n",
              "      <td>0.0</td>\n",
              "      <td>0.0</td>\n",
              "      <td>0.0</td>\n",
              "      <td>0.0</td>\n",
              "      <td>...</td>\n",
              "      <td>0.0</td>\n",
              "      <td>0.0</td>\n",
              "      <td>0.0</td>\n",
              "      <td>0.0</td>\n",
              "      <td>2.0</td>\n",
              "      <td>16.0</td>\n",
              "      <td>4.0</td>\n",
              "      <td>0.0</td>\n",
              "      <td>0.0</td>\n",
              "      <td>4</td>\n",
              "    </tr>\n",
              "  </tbody>\n",
              "</table>\n",
              "<p>5 rows × 65 columns</p>\n",
              "</div>\n",
              "    <div class=\"colab-df-buttons\">\n",
              "\n",
              "  <div class=\"colab-df-container\">\n",
              "    <button class=\"colab-df-convert\" onclick=\"convertToInteractive('df-8b74c914-6ce5-4e3e-b05d-ed343c05f37e')\"\n",
              "            title=\"Convert this dataframe to an interactive table.\"\n",
              "            style=\"display:none;\">\n",
              "\n",
              "  <svg xmlns=\"http://www.w3.org/2000/svg\" height=\"24px\" viewBox=\"0 -960 960 960\">\n",
              "    <path d=\"M120-120v-720h720v720H120Zm60-500h600v-160H180v160Zm220 220h160v-160H400v160Zm0 220h160v-160H400v160ZM180-400h160v-160H180v160Zm440 0h160v-160H620v160ZM180-180h160v-160H180v160Zm440 0h160v-160H620v160Z\"/>\n",
              "  </svg>\n",
              "    </button>\n",
              "\n",
              "  <style>\n",
              "    .colab-df-container {\n",
              "      display:flex;\n",
              "      gap: 12px;\n",
              "    }\n",
              "\n",
              "    .colab-df-convert {\n",
              "      background-color: #E8F0FE;\n",
              "      border: none;\n",
              "      border-radius: 50%;\n",
              "      cursor: pointer;\n",
              "      display: none;\n",
              "      fill: #1967D2;\n",
              "      height: 32px;\n",
              "      padding: 0 0 0 0;\n",
              "      width: 32px;\n",
              "    }\n",
              "\n",
              "    .colab-df-convert:hover {\n",
              "      background-color: #E2EBFA;\n",
              "      box-shadow: 0px 1px 2px rgba(60, 64, 67, 0.3), 0px 1px 3px 1px rgba(60, 64, 67, 0.15);\n",
              "      fill: #174EA6;\n",
              "    }\n",
              "\n",
              "    .colab-df-buttons div {\n",
              "      margin-bottom: 4px;\n",
              "    }\n",
              "\n",
              "    [theme=dark] .colab-df-convert {\n",
              "      background-color: #3B4455;\n",
              "      fill: #D2E3FC;\n",
              "    }\n",
              "\n",
              "    [theme=dark] .colab-df-convert:hover {\n",
              "      background-color: #434B5C;\n",
              "      box-shadow: 0px 1px 3px 1px rgba(0, 0, 0, 0.15);\n",
              "      filter: drop-shadow(0px 1px 2px rgba(0, 0, 0, 0.3));\n",
              "      fill: #FFFFFF;\n",
              "    }\n",
              "  </style>\n",
              "\n",
              "    <script>\n",
              "      const buttonEl =\n",
              "        document.querySelector('#df-8b74c914-6ce5-4e3e-b05d-ed343c05f37e button.colab-df-convert');\n",
              "      buttonEl.style.display =\n",
              "        google.colab.kernel.accessAllowed ? 'block' : 'none';\n",
              "\n",
              "      async function convertToInteractive(key) {\n",
              "        const element = document.querySelector('#df-8b74c914-6ce5-4e3e-b05d-ed343c05f37e');\n",
              "        const dataTable =\n",
              "          await google.colab.kernel.invokeFunction('convertToInteractive',\n",
              "                                                    [key], {});\n",
              "        if (!dataTable) return;\n",
              "\n",
              "        const docLinkHtml = 'Like what you see? Visit the ' +\n",
              "          '<a target=\"_blank\" href=https://colab.research.google.com/notebooks/data_table.ipynb>data table notebook</a>'\n",
              "          + ' to learn more about interactive tables.';\n",
              "        element.innerHTML = '';\n",
              "        dataTable['output_type'] = 'display_data';\n",
              "        await google.colab.output.renderOutput(dataTable, element);\n",
              "        const docLink = document.createElement('div');\n",
              "        docLink.innerHTML = docLinkHtml;\n",
              "        element.appendChild(docLink);\n",
              "      }\n",
              "    </script>\n",
              "  </div>\n",
              "\n",
              "\n",
              "<div id=\"df-6bfe1af0-7579-4f77-9ba3-e979f973d560\">\n",
              "  <button class=\"colab-df-quickchart\" onclick=\"quickchart('df-6bfe1af0-7579-4f77-9ba3-e979f973d560')\"\n",
              "            title=\"Suggest charts\"\n",
              "            style=\"display:none;\">\n",
              "\n",
              "<svg xmlns=\"http://www.w3.org/2000/svg\" height=\"24px\"viewBox=\"0 0 24 24\"\n",
              "     width=\"24px\">\n",
              "    <g>\n",
              "        <path d=\"M19 3H5c-1.1 0-2 .9-2 2v14c0 1.1.9 2 2 2h14c1.1 0 2-.9 2-2V5c0-1.1-.9-2-2-2zM9 17H7v-7h2v7zm4 0h-2V7h2v10zm4 0h-2v-4h2v4z\"/>\n",
              "    </g>\n",
              "</svg>\n",
              "  </button>\n",
              "\n",
              "<style>\n",
              "  .colab-df-quickchart {\n",
              "      --bg-color: #E8F0FE;\n",
              "      --fill-color: #1967D2;\n",
              "      --hover-bg-color: #E2EBFA;\n",
              "      --hover-fill-color: #174EA6;\n",
              "      --disabled-fill-color: #AAA;\n",
              "      --disabled-bg-color: #DDD;\n",
              "  }\n",
              "\n",
              "  [theme=dark] .colab-df-quickchart {\n",
              "      --bg-color: #3B4455;\n",
              "      --fill-color: #D2E3FC;\n",
              "      --hover-bg-color: #434B5C;\n",
              "      --hover-fill-color: #FFFFFF;\n",
              "      --disabled-bg-color: #3B4455;\n",
              "      --disabled-fill-color: #666;\n",
              "  }\n",
              "\n",
              "  .colab-df-quickchart {\n",
              "    background-color: var(--bg-color);\n",
              "    border: none;\n",
              "    border-radius: 50%;\n",
              "    cursor: pointer;\n",
              "    display: none;\n",
              "    fill: var(--fill-color);\n",
              "    height: 32px;\n",
              "    padding: 0;\n",
              "    width: 32px;\n",
              "  }\n",
              "\n",
              "  .colab-df-quickchart:hover {\n",
              "    background-color: var(--hover-bg-color);\n",
              "    box-shadow: 0 1px 2px rgba(60, 64, 67, 0.3), 0 1px 3px 1px rgba(60, 64, 67, 0.15);\n",
              "    fill: var(--button-hover-fill-color);\n",
              "  }\n",
              "\n",
              "  .colab-df-quickchart-complete:disabled,\n",
              "  .colab-df-quickchart-complete:disabled:hover {\n",
              "    background-color: var(--disabled-bg-color);\n",
              "    fill: var(--disabled-fill-color);\n",
              "    box-shadow: none;\n",
              "  }\n",
              "\n",
              "  .colab-df-spinner {\n",
              "    border: 2px solid var(--fill-color);\n",
              "    border-color: transparent;\n",
              "    border-bottom-color: var(--fill-color);\n",
              "    animation:\n",
              "      spin 1s steps(1) infinite;\n",
              "  }\n",
              "\n",
              "  @keyframes spin {\n",
              "    0% {\n",
              "      border-color: transparent;\n",
              "      border-bottom-color: var(--fill-color);\n",
              "      border-left-color: var(--fill-color);\n",
              "    }\n",
              "    20% {\n",
              "      border-color: transparent;\n",
              "      border-left-color: var(--fill-color);\n",
              "      border-top-color: var(--fill-color);\n",
              "    }\n",
              "    30% {\n",
              "      border-color: transparent;\n",
              "      border-left-color: var(--fill-color);\n",
              "      border-top-color: var(--fill-color);\n",
              "      border-right-color: var(--fill-color);\n",
              "    }\n",
              "    40% {\n",
              "      border-color: transparent;\n",
              "      border-right-color: var(--fill-color);\n",
              "      border-top-color: var(--fill-color);\n",
              "    }\n",
              "    60% {\n",
              "      border-color: transparent;\n",
              "      border-right-color: var(--fill-color);\n",
              "    }\n",
              "    80% {\n",
              "      border-color: transparent;\n",
              "      border-right-color: var(--fill-color);\n",
              "      border-bottom-color: var(--fill-color);\n",
              "    }\n",
              "    90% {\n",
              "      border-color: transparent;\n",
              "      border-bottom-color: var(--fill-color);\n",
              "    }\n",
              "  }\n",
              "</style>\n",
              "\n",
              "  <script>\n",
              "    async function quickchart(key) {\n",
              "      const quickchartButtonEl =\n",
              "        document.querySelector('#' + key + ' button');\n",
              "      quickchartButtonEl.disabled = true;  // To prevent multiple clicks.\n",
              "      quickchartButtonEl.classList.add('colab-df-spinner');\n",
              "      try {\n",
              "        const charts = await google.colab.kernel.invokeFunction(\n",
              "            'suggestCharts', [key], {});\n",
              "      } catch (error) {\n",
              "        console.error('Error during call to suggestCharts:', error);\n",
              "      }\n",
              "      quickchartButtonEl.classList.remove('colab-df-spinner');\n",
              "      quickchartButtonEl.classList.add('colab-df-quickchart-complete');\n",
              "    }\n",
              "    (() => {\n",
              "      let quickchartButtonEl =\n",
              "        document.querySelector('#df-6bfe1af0-7579-4f77-9ba3-e979f973d560 button');\n",
              "      quickchartButtonEl.style.display =\n",
              "        google.colab.kernel.accessAllowed ? 'block' : 'none';\n",
              "    })();\n",
              "  </script>\n",
              "</div>\n",
              "\n",
              "    </div>\n",
              "  </div>\n"
            ],
            "application/vnd.google.colaboratory.intrinsic+json": {
              "type": "dataframe",
              "variable_name": "digits_df"
            }
          },
          "metadata": {},
          "execution_count": 42
        }
      ]
    },
    {
      "cell_type": "code",
      "source": [
        "digits_df.keys()"
      ],
      "metadata": {
        "colab": {
          "base_uri": "https://localhost:8080/"
        },
        "id": "UYIo4R8tJ2bG",
        "outputId": "e7292e7f-ba46-4272-fed1-143f849dcaed"
      },
      "execution_count": 43,
      "outputs": [
        {
          "output_type": "execute_result",
          "data": {
            "text/plain": [
              "Index(['pixel_0_0', 'pixel_0_1', 'pixel_0_2', 'pixel_0_3', 'pixel_0_4',\n",
              "       'pixel_0_5', 'pixel_0_6', 'pixel_0_7', 'pixel_1_0', 'pixel_1_1',\n",
              "       'pixel_1_2', 'pixel_1_3', 'pixel_1_4', 'pixel_1_5', 'pixel_1_6',\n",
              "       'pixel_1_7', 'pixel_2_0', 'pixel_2_1', 'pixel_2_2', 'pixel_2_3',\n",
              "       'pixel_2_4', 'pixel_2_5', 'pixel_2_6', 'pixel_2_7', 'pixel_3_0',\n",
              "       'pixel_3_1', 'pixel_3_2', 'pixel_3_3', 'pixel_3_4', 'pixel_3_5',\n",
              "       'pixel_3_6', 'pixel_3_7', 'pixel_4_0', 'pixel_4_1', 'pixel_4_2',\n",
              "       'pixel_4_3', 'pixel_4_4', 'pixel_4_5', 'pixel_4_6', 'pixel_4_7',\n",
              "       'pixel_5_0', 'pixel_5_1', 'pixel_5_2', 'pixel_5_3', 'pixel_5_4',\n",
              "       'pixel_5_5', 'pixel_5_6', 'pixel_5_7', 'pixel_6_0', 'pixel_6_1',\n",
              "       'pixel_6_2', 'pixel_6_3', 'pixel_6_4', 'pixel_6_5', 'pixel_6_6',\n",
              "       'pixel_6_7', 'pixel_7_0', 'pixel_7_1', 'pixel_7_2', 'pixel_7_3',\n",
              "       'pixel_7_4', 'pixel_7_5', 'pixel_7_6', 'pixel_7_7', 'label'],\n",
              "      dtype='object')"
            ]
          },
          "metadata": {},
          "execution_count": 43
        }
      ]
    },
    {
      "cell_type": "code",
      "source": [
        "digits_df.describe()"
      ],
      "metadata": {
        "colab": {
          "base_uri": "https://localhost:8080/",
          "height": 350
        },
        "id": "CU6wazjOJX6Y",
        "outputId": "40f24b18-88e6-4c22-a0ba-f4771a691381"
      },
      "execution_count": 44,
      "outputs": [
        {
          "output_type": "execute_result",
          "data": {
            "text/plain": [
              "       pixel_0_0    pixel_0_1    pixel_0_2    pixel_0_3    pixel_0_4  \\\n",
              "count     1797.0  1797.000000  1797.000000  1797.000000  1797.000000   \n",
              "mean         0.0     0.303840     5.204786    11.835838    11.848080   \n",
              "std          0.0     0.907192     4.754826     4.248842     4.287388   \n",
              "min          0.0     0.000000     0.000000     0.000000     0.000000   \n",
              "25%          0.0     0.000000     1.000000    10.000000    10.000000   \n",
              "50%          0.0     0.000000     4.000000    13.000000    13.000000   \n",
              "75%          0.0     0.000000     9.000000    15.000000    15.000000   \n",
              "max          0.0     8.000000    16.000000    16.000000    16.000000   \n",
              "\n",
              "         pixel_0_5    pixel_0_6    pixel_0_7    pixel_1_0    pixel_1_1  ...  \\\n",
              "count  1797.000000  1797.000000  1797.000000  1797.000000  1797.000000  ...   \n",
              "mean      5.781859     1.362270     0.129661     0.005565     1.993879  ...   \n",
              "std       5.666418     3.325775     1.037383     0.094222     3.196160  ...   \n",
              "min       0.000000     0.000000     0.000000     0.000000     0.000000  ...   \n",
              "25%       0.000000     0.000000     0.000000     0.000000     0.000000  ...   \n",
              "50%       4.000000     0.000000     0.000000     0.000000     0.000000  ...   \n",
              "75%      11.000000     0.000000     0.000000     0.000000     3.000000  ...   \n",
              "max      16.000000    16.000000    15.000000     2.000000    16.000000  ...   \n",
              "\n",
              "         pixel_6_7    pixel_7_0    pixel_7_1    pixel_7_2    pixel_7_3  \\\n",
              "count  1797.000000  1797.000000  1797.000000  1797.000000  1797.000000   \n",
              "mean      0.206455     0.000556     0.279354     5.557596    12.089037   \n",
              "std       0.984401     0.023590     0.934302     5.103019     4.374694   \n",
              "min       0.000000     0.000000     0.000000     0.000000     0.000000   \n",
              "25%       0.000000     0.000000     0.000000     1.000000    11.000000   \n",
              "50%       0.000000     0.000000     0.000000     4.000000    13.000000   \n",
              "75%       0.000000     0.000000     0.000000    10.000000    16.000000   \n",
              "max      13.000000     1.000000     9.000000    16.000000    16.000000   \n",
              "\n",
              "         pixel_7_4    pixel_7_5    pixel_7_6    pixel_7_7        label  \n",
              "count  1797.000000  1797.000000  1797.000000  1797.000000  1797.000000  \n",
              "mean     11.809126     6.764051     2.067891     0.364496     4.490818  \n",
              "std       4.933947     5.900623     4.090548     1.860122     2.865304  \n",
              "min       0.000000     0.000000     0.000000     0.000000     0.000000  \n",
              "25%      10.000000     0.000000     0.000000     0.000000     2.000000  \n",
              "50%      14.000000     6.000000     0.000000     0.000000     4.000000  \n",
              "75%      16.000000    12.000000     2.000000     0.000000     7.000000  \n",
              "max      16.000000    16.000000    16.000000    16.000000     9.000000  \n",
              "\n",
              "[8 rows x 65 columns]"
            ],
            "text/html": [
              "\n",
              "  <div id=\"df-f453d565-c4b4-44a4-b063-bea3da492810\" class=\"colab-df-container\">\n",
              "    <div>\n",
              "<style scoped>\n",
              "    .dataframe tbody tr th:only-of-type {\n",
              "        vertical-align: middle;\n",
              "    }\n",
              "\n",
              "    .dataframe tbody tr th {\n",
              "        vertical-align: top;\n",
              "    }\n",
              "\n",
              "    .dataframe thead th {\n",
              "        text-align: right;\n",
              "    }\n",
              "</style>\n",
              "<table border=\"1\" class=\"dataframe\">\n",
              "  <thead>\n",
              "    <tr style=\"text-align: right;\">\n",
              "      <th></th>\n",
              "      <th>pixel_0_0</th>\n",
              "      <th>pixel_0_1</th>\n",
              "      <th>pixel_0_2</th>\n",
              "      <th>pixel_0_3</th>\n",
              "      <th>pixel_0_4</th>\n",
              "      <th>pixel_0_5</th>\n",
              "      <th>pixel_0_6</th>\n",
              "      <th>pixel_0_7</th>\n",
              "      <th>pixel_1_0</th>\n",
              "      <th>pixel_1_1</th>\n",
              "      <th>...</th>\n",
              "      <th>pixel_6_7</th>\n",
              "      <th>pixel_7_0</th>\n",
              "      <th>pixel_7_1</th>\n",
              "      <th>pixel_7_2</th>\n",
              "      <th>pixel_7_3</th>\n",
              "      <th>pixel_7_4</th>\n",
              "      <th>pixel_7_5</th>\n",
              "      <th>pixel_7_6</th>\n",
              "      <th>pixel_7_7</th>\n",
              "      <th>label</th>\n",
              "    </tr>\n",
              "  </thead>\n",
              "  <tbody>\n",
              "    <tr>\n",
              "      <th>count</th>\n",
              "      <td>1797.0</td>\n",
              "      <td>1797.000000</td>\n",
              "      <td>1797.000000</td>\n",
              "      <td>1797.000000</td>\n",
              "      <td>1797.000000</td>\n",
              "      <td>1797.000000</td>\n",
              "      <td>1797.000000</td>\n",
              "      <td>1797.000000</td>\n",
              "      <td>1797.000000</td>\n",
              "      <td>1797.000000</td>\n",
              "      <td>...</td>\n",
              "      <td>1797.000000</td>\n",
              "      <td>1797.000000</td>\n",
              "      <td>1797.000000</td>\n",
              "      <td>1797.000000</td>\n",
              "      <td>1797.000000</td>\n",
              "      <td>1797.000000</td>\n",
              "      <td>1797.000000</td>\n",
              "      <td>1797.000000</td>\n",
              "      <td>1797.000000</td>\n",
              "      <td>1797.000000</td>\n",
              "    </tr>\n",
              "    <tr>\n",
              "      <th>mean</th>\n",
              "      <td>0.0</td>\n",
              "      <td>0.303840</td>\n",
              "      <td>5.204786</td>\n",
              "      <td>11.835838</td>\n",
              "      <td>11.848080</td>\n",
              "      <td>5.781859</td>\n",
              "      <td>1.362270</td>\n",
              "      <td>0.129661</td>\n",
              "      <td>0.005565</td>\n",
              "      <td>1.993879</td>\n",
              "      <td>...</td>\n",
              "      <td>0.206455</td>\n",
              "      <td>0.000556</td>\n",
              "      <td>0.279354</td>\n",
              "      <td>5.557596</td>\n",
              "      <td>12.089037</td>\n",
              "      <td>11.809126</td>\n",
              "      <td>6.764051</td>\n",
              "      <td>2.067891</td>\n",
              "      <td>0.364496</td>\n",
              "      <td>4.490818</td>\n",
              "    </tr>\n",
              "    <tr>\n",
              "      <th>std</th>\n",
              "      <td>0.0</td>\n",
              "      <td>0.907192</td>\n",
              "      <td>4.754826</td>\n",
              "      <td>4.248842</td>\n",
              "      <td>4.287388</td>\n",
              "      <td>5.666418</td>\n",
              "      <td>3.325775</td>\n",
              "      <td>1.037383</td>\n",
              "      <td>0.094222</td>\n",
              "      <td>3.196160</td>\n",
              "      <td>...</td>\n",
              "      <td>0.984401</td>\n",
              "      <td>0.023590</td>\n",
              "      <td>0.934302</td>\n",
              "      <td>5.103019</td>\n",
              "      <td>4.374694</td>\n",
              "      <td>4.933947</td>\n",
              "      <td>5.900623</td>\n",
              "      <td>4.090548</td>\n",
              "      <td>1.860122</td>\n",
              "      <td>2.865304</td>\n",
              "    </tr>\n",
              "    <tr>\n",
              "      <th>min</th>\n",
              "      <td>0.0</td>\n",
              "      <td>0.000000</td>\n",
              "      <td>0.000000</td>\n",
              "      <td>0.000000</td>\n",
              "      <td>0.000000</td>\n",
              "      <td>0.000000</td>\n",
              "      <td>0.000000</td>\n",
              "      <td>0.000000</td>\n",
              "      <td>0.000000</td>\n",
              "      <td>0.000000</td>\n",
              "      <td>...</td>\n",
              "      <td>0.000000</td>\n",
              "      <td>0.000000</td>\n",
              "      <td>0.000000</td>\n",
              "      <td>0.000000</td>\n",
              "      <td>0.000000</td>\n",
              "      <td>0.000000</td>\n",
              "      <td>0.000000</td>\n",
              "      <td>0.000000</td>\n",
              "      <td>0.000000</td>\n",
              "      <td>0.000000</td>\n",
              "    </tr>\n",
              "    <tr>\n",
              "      <th>25%</th>\n",
              "      <td>0.0</td>\n",
              "      <td>0.000000</td>\n",
              "      <td>1.000000</td>\n",
              "      <td>10.000000</td>\n",
              "      <td>10.000000</td>\n",
              "      <td>0.000000</td>\n",
              "      <td>0.000000</td>\n",
              "      <td>0.000000</td>\n",
              "      <td>0.000000</td>\n",
              "      <td>0.000000</td>\n",
              "      <td>...</td>\n",
              "      <td>0.000000</td>\n",
              "      <td>0.000000</td>\n",
              "      <td>0.000000</td>\n",
              "      <td>1.000000</td>\n",
              "      <td>11.000000</td>\n",
              "      <td>10.000000</td>\n",
              "      <td>0.000000</td>\n",
              "      <td>0.000000</td>\n",
              "      <td>0.000000</td>\n",
              "      <td>2.000000</td>\n",
              "    </tr>\n",
              "    <tr>\n",
              "      <th>50%</th>\n",
              "      <td>0.0</td>\n",
              "      <td>0.000000</td>\n",
              "      <td>4.000000</td>\n",
              "      <td>13.000000</td>\n",
              "      <td>13.000000</td>\n",
              "      <td>4.000000</td>\n",
              "      <td>0.000000</td>\n",
              "      <td>0.000000</td>\n",
              "      <td>0.000000</td>\n",
              "      <td>0.000000</td>\n",
              "      <td>...</td>\n",
              "      <td>0.000000</td>\n",
              "      <td>0.000000</td>\n",
              "      <td>0.000000</td>\n",
              "      <td>4.000000</td>\n",
              "      <td>13.000000</td>\n",
              "      <td>14.000000</td>\n",
              "      <td>6.000000</td>\n",
              "      <td>0.000000</td>\n",
              "      <td>0.000000</td>\n",
              "      <td>4.000000</td>\n",
              "    </tr>\n",
              "    <tr>\n",
              "      <th>75%</th>\n",
              "      <td>0.0</td>\n",
              "      <td>0.000000</td>\n",
              "      <td>9.000000</td>\n",
              "      <td>15.000000</td>\n",
              "      <td>15.000000</td>\n",
              "      <td>11.000000</td>\n",
              "      <td>0.000000</td>\n",
              "      <td>0.000000</td>\n",
              "      <td>0.000000</td>\n",
              "      <td>3.000000</td>\n",
              "      <td>...</td>\n",
              "      <td>0.000000</td>\n",
              "      <td>0.000000</td>\n",
              "      <td>0.000000</td>\n",
              "      <td>10.000000</td>\n",
              "      <td>16.000000</td>\n",
              "      <td>16.000000</td>\n",
              "      <td>12.000000</td>\n",
              "      <td>2.000000</td>\n",
              "      <td>0.000000</td>\n",
              "      <td>7.000000</td>\n",
              "    </tr>\n",
              "    <tr>\n",
              "      <th>max</th>\n",
              "      <td>0.0</td>\n",
              "      <td>8.000000</td>\n",
              "      <td>16.000000</td>\n",
              "      <td>16.000000</td>\n",
              "      <td>16.000000</td>\n",
              "      <td>16.000000</td>\n",
              "      <td>16.000000</td>\n",
              "      <td>15.000000</td>\n",
              "      <td>2.000000</td>\n",
              "      <td>16.000000</td>\n",
              "      <td>...</td>\n",
              "      <td>13.000000</td>\n",
              "      <td>1.000000</td>\n",
              "      <td>9.000000</td>\n",
              "      <td>16.000000</td>\n",
              "      <td>16.000000</td>\n",
              "      <td>16.000000</td>\n",
              "      <td>16.000000</td>\n",
              "      <td>16.000000</td>\n",
              "      <td>16.000000</td>\n",
              "      <td>9.000000</td>\n",
              "    </tr>\n",
              "  </tbody>\n",
              "</table>\n",
              "<p>8 rows × 65 columns</p>\n",
              "</div>\n",
              "    <div class=\"colab-df-buttons\">\n",
              "\n",
              "  <div class=\"colab-df-container\">\n",
              "    <button class=\"colab-df-convert\" onclick=\"convertToInteractive('df-f453d565-c4b4-44a4-b063-bea3da492810')\"\n",
              "            title=\"Convert this dataframe to an interactive table.\"\n",
              "            style=\"display:none;\">\n",
              "\n",
              "  <svg xmlns=\"http://www.w3.org/2000/svg\" height=\"24px\" viewBox=\"0 -960 960 960\">\n",
              "    <path d=\"M120-120v-720h720v720H120Zm60-500h600v-160H180v160Zm220 220h160v-160H400v160Zm0 220h160v-160H400v160ZM180-400h160v-160H180v160Zm440 0h160v-160H620v160ZM180-180h160v-160H180v160Zm440 0h160v-160H620v160Z\"/>\n",
              "  </svg>\n",
              "    </button>\n",
              "\n",
              "  <style>\n",
              "    .colab-df-container {\n",
              "      display:flex;\n",
              "      gap: 12px;\n",
              "    }\n",
              "\n",
              "    .colab-df-convert {\n",
              "      background-color: #E8F0FE;\n",
              "      border: none;\n",
              "      border-radius: 50%;\n",
              "      cursor: pointer;\n",
              "      display: none;\n",
              "      fill: #1967D2;\n",
              "      height: 32px;\n",
              "      padding: 0 0 0 0;\n",
              "      width: 32px;\n",
              "    }\n",
              "\n",
              "    .colab-df-convert:hover {\n",
              "      background-color: #E2EBFA;\n",
              "      box-shadow: 0px 1px 2px rgba(60, 64, 67, 0.3), 0px 1px 3px 1px rgba(60, 64, 67, 0.15);\n",
              "      fill: #174EA6;\n",
              "    }\n",
              "\n",
              "    .colab-df-buttons div {\n",
              "      margin-bottom: 4px;\n",
              "    }\n",
              "\n",
              "    [theme=dark] .colab-df-convert {\n",
              "      background-color: #3B4455;\n",
              "      fill: #D2E3FC;\n",
              "    }\n",
              "\n",
              "    [theme=dark] .colab-df-convert:hover {\n",
              "      background-color: #434B5C;\n",
              "      box-shadow: 0px 1px 3px 1px rgba(0, 0, 0, 0.15);\n",
              "      filter: drop-shadow(0px 1px 2px rgba(0, 0, 0, 0.3));\n",
              "      fill: #FFFFFF;\n",
              "    }\n",
              "  </style>\n",
              "\n",
              "    <script>\n",
              "      const buttonEl =\n",
              "        document.querySelector('#df-f453d565-c4b4-44a4-b063-bea3da492810 button.colab-df-convert');\n",
              "      buttonEl.style.display =\n",
              "        google.colab.kernel.accessAllowed ? 'block' : 'none';\n",
              "\n",
              "      async function convertToInteractive(key) {\n",
              "        const element = document.querySelector('#df-f453d565-c4b4-44a4-b063-bea3da492810');\n",
              "        const dataTable =\n",
              "          await google.colab.kernel.invokeFunction('convertToInteractive',\n",
              "                                                    [key], {});\n",
              "        if (!dataTable) return;\n",
              "\n",
              "        const docLinkHtml = 'Like what you see? Visit the ' +\n",
              "          '<a target=\"_blank\" href=https://colab.research.google.com/notebooks/data_table.ipynb>data table notebook</a>'\n",
              "          + ' to learn more about interactive tables.';\n",
              "        element.innerHTML = '';\n",
              "        dataTable['output_type'] = 'display_data';\n",
              "        await google.colab.output.renderOutput(dataTable, element);\n",
              "        const docLink = document.createElement('div');\n",
              "        docLink.innerHTML = docLinkHtml;\n",
              "        element.appendChild(docLink);\n",
              "      }\n",
              "    </script>\n",
              "  </div>\n",
              "\n",
              "\n",
              "<div id=\"df-8dcb5411-6471-4e65-ab1d-4de3a94ffea0\">\n",
              "  <button class=\"colab-df-quickchart\" onclick=\"quickchart('df-8dcb5411-6471-4e65-ab1d-4de3a94ffea0')\"\n",
              "            title=\"Suggest charts\"\n",
              "            style=\"display:none;\">\n",
              "\n",
              "<svg xmlns=\"http://www.w3.org/2000/svg\" height=\"24px\"viewBox=\"0 0 24 24\"\n",
              "     width=\"24px\">\n",
              "    <g>\n",
              "        <path d=\"M19 3H5c-1.1 0-2 .9-2 2v14c0 1.1.9 2 2 2h14c1.1 0 2-.9 2-2V5c0-1.1-.9-2-2-2zM9 17H7v-7h2v7zm4 0h-2V7h2v10zm4 0h-2v-4h2v4z\"/>\n",
              "    </g>\n",
              "</svg>\n",
              "  </button>\n",
              "\n",
              "<style>\n",
              "  .colab-df-quickchart {\n",
              "      --bg-color: #E8F0FE;\n",
              "      --fill-color: #1967D2;\n",
              "      --hover-bg-color: #E2EBFA;\n",
              "      --hover-fill-color: #174EA6;\n",
              "      --disabled-fill-color: #AAA;\n",
              "      --disabled-bg-color: #DDD;\n",
              "  }\n",
              "\n",
              "  [theme=dark] .colab-df-quickchart {\n",
              "      --bg-color: #3B4455;\n",
              "      --fill-color: #D2E3FC;\n",
              "      --hover-bg-color: #434B5C;\n",
              "      --hover-fill-color: #FFFFFF;\n",
              "      --disabled-bg-color: #3B4455;\n",
              "      --disabled-fill-color: #666;\n",
              "  }\n",
              "\n",
              "  .colab-df-quickchart {\n",
              "    background-color: var(--bg-color);\n",
              "    border: none;\n",
              "    border-radius: 50%;\n",
              "    cursor: pointer;\n",
              "    display: none;\n",
              "    fill: var(--fill-color);\n",
              "    height: 32px;\n",
              "    padding: 0;\n",
              "    width: 32px;\n",
              "  }\n",
              "\n",
              "  .colab-df-quickchart:hover {\n",
              "    background-color: var(--hover-bg-color);\n",
              "    box-shadow: 0 1px 2px rgba(60, 64, 67, 0.3), 0 1px 3px 1px rgba(60, 64, 67, 0.15);\n",
              "    fill: var(--button-hover-fill-color);\n",
              "  }\n",
              "\n",
              "  .colab-df-quickchart-complete:disabled,\n",
              "  .colab-df-quickchart-complete:disabled:hover {\n",
              "    background-color: var(--disabled-bg-color);\n",
              "    fill: var(--disabled-fill-color);\n",
              "    box-shadow: none;\n",
              "  }\n",
              "\n",
              "  .colab-df-spinner {\n",
              "    border: 2px solid var(--fill-color);\n",
              "    border-color: transparent;\n",
              "    border-bottom-color: var(--fill-color);\n",
              "    animation:\n",
              "      spin 1s steps(1) infinite;\n",
              "  }\n",
              "\n",
              "  @keyframes spin {\n",
              "    0% {\n",
              "      border-color: transparent;\n",
              "      border-bottom-color: var(--fill-color);\n",
              "      border-left-color: var(--fill-color);\n",
              "    }\n",
              "    20% {\n",
              "      border-color: transparent;\n",
              "      border-left-color: var(--fill-color);\n",
              "      border-top-color: var(--fill-color);\n",
              "    }\n",
              "    30% {\n",
              "      border-color: transparent;\n",
              "      border-left-color: var(--fill-color);\n",
              "      border-top-color: var(--fill-color);\n",
              "      border-right-color: var(--fill-color);\n",
              "    }\n",
              "    40% {\n",
              "      border-color: transparent;\n",
              "      border-right-color: var(--fill-color);\n",
              "      border-top-color: var(--fill-color);\n",
              "    }\n",
              "    60% {\n",
              "      border-color: transparent;\n",
              "      border-right-color: var(--fill-color);\n",
              "    }\n",
              "    80% {\n",
              "      border-color: transparent;\n",
              "      border-right-color: var(--fill-color);\n",
              "      border-bottom-color: var(--fill-color);\n",
              "    }\n",
              "    90% {\n",
              "      border-color: transparent;\n",
              "      border-bottom-color: var(--fill-color);\n",
              "    }\n",
              "  }\n",
              "</style>\n",
              "\n",
              "  <script>\n",
              "    async function quickchart(key) {\n",
              "      const quickchartButtonEl =\n",
              "        document.querySelector('#' + key + ' button');\n",
              "      quickchartButtonEl.disabled = true;  // To prevent multiple clicks.\n",
              "      quickchartButtonEl.classList.add('colab-df-spinner');\n",
              "      try {\n",
              "        const charts = await google.colab.kernel.invokeFunction(\n",
              "            'suggestCharts', [key], {});\n",
              "      } catch (error) {\n",
              "        console.error('Error during call to suggestCharts:', error);\n",
              "      }\n",
              "      quickchartButtonEl.classList.remove('colab-df-spinner');\n",
              "      quickchartButtonEl.classList.add('colab-df-quickchart-complete');\n",
              "    }\n",
              "    (() => {\n",
              "      let quickchartButtonEl =\n",
              "        document.querySelector('#df-8dcb5411-6471-4e65-ab1d-4de3a94ffea0 button');\n",
              "      quickchartButtonEl.style.display =\n",
              "        google.colab.kernel.accessAllowed ? 'block' : 'none';\n",
              "    })();\n",
              "  </script>\n",
              "</div>\n",
              "\n",
              "    </div>\n",
              "  </div>\n"
            ],
            "application/vnd.google.colaboratory.intrinsic+json": {
              "type": "dataframe"
            }
          },
          "metadata": {},
          "execution_count": 44
        }
      ]
    },
    {
      "cell_type": "code",
      "source": [
        "from sklearn.model_selection import train_test_split # train/test model 으로 dataset 구분\n",
        "X_train, X_test, y_train, y_test=train_test_split (digits_data, digits_label, test_size = 0.2, random_state = 3)\n",
        "# 나눠야 할 데이터(문제지, X): digits_data\n",
        "# 데이터의 라벨(정답, y): digits_label\n",
        "# digits_data와 digits_label를 각각 train:test = 8:2의 비율로 잘라서\n",
        "# random state = 인수 지정한 것. 노드에선 2로 되어있으나 그냥 3으로 해봄\n",
        "# X_train, X_test, y_train, y_test에 저장\n",
        "print('X_train 개수: ', len(X_train),', X_test 개수: ', len(X_test)) # train/test 개수 확인"
      ],
      "metadata": {
        "colab": {
          "base_uri": "https://localhost:8080/"
        },
        "id": "PRP8vV5QJydS",
        "outputId": "00aaf7c9-bf9e-4051-e554-e9a05c55df94"
      },
      "execution_count": 45,
      "outputs": [
        {
          "output_type": "stream",
          "name": "stdout",
          "text": [
            "X_train 개수:  1437 , X_test 개수:  360\n"
          ]
        }
      ]
    },
    {
      "cell_type": "code",
      "source": [
        "# Decision Tree 모델 import 하기\n",
        "from sklearn.tree import DecisionTreeClassifier\n",
        "decision_tree=DecisionTreeClassifier(random_state=10) #재현성을 위해 초기값 10, 바꿔봄\n",
        "decision_tree.fit(X_train, y_train) # fit은 의사결정나무로 학습하기위한 명령어\n",
        "y_pred = decision_tree.predict(X_test)\n",
        "y_pred\n"
      ],
      "metadata": {
        "colab": {
          "base_uri": "https://localhost:8080/"
        },
        "id": "TEwBmldoL8Aa",
        "outputId": "d855dbab-c7eb-45ad-be52-9b7c2dd1ebfe"
      },
      "execution_count": 48,
      "outputs": [
        {
          "output_type": "execute_result",
          "data": {
            "text/plain": [
              "array([0, 4, 1, 2, 0, 0, 8, 7, 6, 6, 3, 6, 9, 7, 4, 7, 4, 3, 2, 6, 7, 3,\n",
              "       4, 7, 1, 0, 7, 4, 8, 3, 4, 0, 5, 5, 5, 1, 2, 9, 0, 0, 0, 8, 2, 3,\n",
              "       7, 0, 2, 7, 1, 3, 8, 4, 2, 9, 6, 0, 4, 3, 7, 4, 3, 9, 9, 5, 0, 3,\n",
              "       7, 4, 9, 1, 3, 0, 9, 3, 0, 2, 7, 8, 1, 4, 1, 3, 3, 2, 2, 3, 8, 2,\n",
              "       4, 6, 9, 5, 8, 4, 7, 2, 7, 2, 5, 6, 5, 6, 1, 0, 6, 4, 3, 1, 5, 6,\n",
              "       8, 8, 8, 6, 0, 0, 2, 7, 9, 0, 8, 5, 8, 4, 2, 0, 5, 9, 0, 1, 8, 4,\n",
              "       4, 3, 6, 2, 2, 7, 1, 3, 5, 8, 9, 2, 7, 4, 9, 2, 0, 0, 9, 2, 3, 4,\n",
              "       0, 9, 7, 0, 1, 4, 1, 3, 6, 7, 9, 1, 9, 7, 2, 7, 7, 0, 5, 3, 4, 0,\n",
              "       5, 3, 8, 0, 3, 0, 1, 9, 5, 4, 8, 2, 6, 0, 9, 7, 8, 8, 7, 3, 0, 3,\n",
              "       9, 3, 6, 3, 7, 9, 0, 2, 7, 6, 5, 3, 1, 0, 4, 7, 1, 0, 5, 3, 7, 3,\n",
              "       2, 3, 5, 0, 7, 4, 5, 3, 0, 0, 5, 7, 5, 2, 4, 2, 9, 3, 3, 0, 9, 3,\n",
              "       2, 3, 1, 7, 0, 7, 4, 5, 2, 1, 1, 4, 7, 2, 7, 8, 3, 5, 2, 3, 0, 9,\n",
              "       2, 0, 7, 6, 5, 4, 3, 1, 4, 1, 8, 0, 7, 4, 2, 1, 2, 4, 9, 5, 0, 3,\n",
              "       0, 5, 5, 3, 6, 1, 4, 3, 8, 5, 7, 7, 4, 6, 4, 8, 3, 0, 1, 9, 7, 7,\n",
              "       9, 3, 4, 8, 1, 5, 2, 2, 1, 7, 8, 3, 9, 8, 4, 1, 2, 5, 5, 0, 1, 9,\n",
              "       1, 0, 9, 1, 4, 6, 6, 9, 9, 4, 1, 1, 5, 0, 8, 2, 4, 3, 3, 6, 4, 7,\n",
              "       6, 6, 8, 3, 6, 6, 1, 0])"
            ]
          },
          "metadata": {},
          "execution_count": 48
        }
      ]
    },
    {
      "cell_type": "code",
      "source": [
        "y_test"
      ],
      "metadata": {
        "colab": {
          "base_uri": "https://localhost:8080/"
        },
        "id": "OlxyR4MHNlL5",
        "outputId": "cb6467d6-89a5-4fb4-b9f8-95a627a0b4ad"
      },
      "execution_count": 49,
      "outputs": [
        {
          "output_type": "execute_result",
          "data": {
            "text/plain": [
              "array([0, 4, 1, 2, 0, 0, 8, 7, 6, 6, 3, 6, 9, 7, 4, 7, 4, 3, 2, 6, 4, 3,\n",
              "       4, 7, 1, 0, 7, 4, 8, 3, 4, 0, 5, 5, 5, 1, 2, 9, 0, 0, 0, 8, 2, 3,\n",
              "       7, 0, 1, 7, 1, 3, 8, 4, 2, 9, 6, 0, 4, 5, 4, 4, 7, 9, 9, 5, 0, 3,\n",
              "       7, 4, 9, 1, 8, 0, 9, 3, 0, 2, 7, 8, 1, 6, 9, 3, 3, 2, 2, 3, 8, 2,\n",
              "       4, 6, 9, 5, 8, 4, 7, 3, 7, 2, 5, 6, 5, 6, 1, 0, 6, 4, 8, 1, 5, 6,\n",
              "       8, 8, 8, 6, 4, 0, 2, 7, 5, 0, 8, 5, 8, 4, 7, 0, 5, 9, 0, 1, 8, 4,\n",
              "       7, 9, 6, 1, 2, 7, 1, 3, 5, 3, 5, 2, 7, 4, 9, 2, 0, 0, 9, 2, 8, 4,\n",
              "       0, 9, 7, 0, 1, 4, 1, 8, 0, 7, 9, 1, 9, 7, 2, 7, 7, 0, 5, 3, 4, 0,\n",
              "       5, 2, 3, 0, 3, 0, 1, 9, 5, 4, 8, 2, 6, 0, 9, 7, 8, 8, 7, 3, 0, 9,\n",
              "       5, 3, 6, 3, 7, 9, 0, 5, 7, 6, 5, 3, 1, 0, 4, 3, 1, 0, 5, 3, 7, 3,\n",
              "       2, 3, 5, 0, 7, 4, 5, 3, 0, 0, 5, 7, 5, 2, 4, 2, 9, 3, 3, 0, 9, 3,\n",
              "       1, 3, 1, 7, 4, 7, 4, 5, 2, 1, 1, 4, 7, 1, 7, 5, 2, 5, 2, 5, 0, 9,\n",
              "       2, 0, 7, 6, 5, 4, 9, 1, 4, 1, 8, 0, 7, 4, 7, 1, 3, 4, 9, 5, 0, 3,\n",
              "       0, 5, 4, 3, 6, 1, 4, 3, 8, 5, 2, 7, 4, 6, 4, 8, 3, 0, 1, 5, 7, 7,\n",
              "       1, 3, 4, 8, 8, 5, 2, 2, 1, 7, 8, 3, 9, 8, 4, 4, 2, 5, 5, 0, 1, 9,\n",
              "       1, 0, 8, 1, 4, 0, 6, 9, 9, 7, 1, 4, 5, 0, 6, 2, 4, 3, 3, 4, 1, 7,\n",
              "       6, 6, 8, 3, 6, 6, 2, 0])"
            ]
          },
          "metadata": {},
          "execution_count": 49
        }
      ]
    },
    {
      "cell_type": "code",
      "source": [
        "# Accuracy 평가 위한 model\n",
        "from sklearn.metrics import accuracy_score\n",
        "accuracy = accuracy_score(y_test, y_pred)\n",
        "accuracy"
      ],
      "metadata": {
        "colab": {
          "base_uri": "https://localhost:8080/"
        },
        "id": "5qfBuV1aNX-F",
        "outputId": "110a4da2-e8c0-4bea-ebf5-68befcae9b0d"
      },
      "execution_count": 50,
      "outputs": [
        {
          "output_type": "execute_result",
          "data": {
            "text/plain": [
              "0.8611111111111112"
            ]
          },
          "metadata": {},
          "execution_count": 50
        }
      ]
    },
    {
      "cell_type": "code",
      "source": [
        "from sklearn.ensemble import RandomForestClassifier #랜덤포레스트라는 분류기를 사용하기 위해 import\n",
        "\n",
        "X_train, X_test, y_train, y_test = train_test_split(digits_data, # digits 데이터의 data 컬럼\n",
        "                                                    digits_label, # digits 데이터의 target 컬럼\n",
        "                                                    test_size=0.2, # test_size : train data와 test data를 몇대몇으로 나눌지 정하는 옵션\n",
        "                                                    random_state=21) # random_state : 랜덤 패턴의 값을 지정\n",
        "\n",
        "random_forest = RandomForestClassifier(random_state=32) # RandomForest분류기 객체를 생성\n",
        "random_forest.fit(X_train, y_train) # 훈련\n",
        "y_pred = random_forest.predict(X_test) # 예측\n",
        "\n",
        "print(classification_report(y_test, y_pred)) # 결과 지표를 확인"
      ],
      "metadata": {
        "colab": {
          "base_uri": "https://localhost:8080/"
        },
        "id": "aMKyVJ1-Nqmj",
        "outputId": "c722b110-3225-4d45-8e4d-4e181705d742"
      },
      "execution_count": 52,
      "outputs": [
        {
          "output_type": "stream",
          "name": "stdout",
          "text": [
            "              precision    recall  f1-score   support\n",
            "\n",
            "           0       0.97      0.94      0.95        32\n",
            "           1       0.97      1.00      0.99        36\n",
            "           2       1.00      1.00      1.00        30\n",
            "           3       0.98      0.98      0.98        41\n",
            "           4       0.94      0.97      0.95        32\n",
            "           5       1.00      0.98      0.99        46\n",
            "           6       1.00      0.97      0.98        32\n",
            "           7       0.98      1.00      0.99        40\n",
            "           8       0.93      0.98      0.95        42\n",
            "           9       1.00      0.93      0.96        29\n",
            "\n",
            "    accuracy                           0.97       360\n",
            "   macro avg       0.98      0.97      0.97       360\n",
            "weighted avg       0.98      0.97      0.98       360\n",
            "\n"
          ]
        }
      ]
    },
    {
      "cell_type": "code",
      "source": [
        "from sklearn import svm #Support Vector Machine을 사용하기 위해 import\n",
        "svm_model = svm.SVC() # 모델 객체를 만든다.\n",
        "\n",
        "print(svm_model._estimator_type) # 이 모델이 어떤 타입인지 확인한다.\n",
        "\n",
        "svm_model.fit(X_train, y_train) # 훈련\n",
        "y_pred = svm_model.predict(X_test) # 예측\n",
        "\n",
        "print(classification_report(y_test, y_pred)) # 결과 지표를 확인\n"
      ],
      "metadata": {
        "colab": {
          "base_uri": "https://localhost:8080/"
        },
        "id": "UCwcrCL3OVDR",
        "outputId": "e3ecbc4b-8458-4c4a-8ec8-e39b9f0c27b7"
      },
      "execution_count": 53,
      "outputs": [
        {
          "output_type": "stream",
          "name": "stdout",
          "text": [
            "classifier\n",
            "              precision    recall  f1-score   support\n",
            "\n",
            "           0       1.00      0.97      0.98        32\n",
            "           1       0.95      1.00      0.97        36\n",
            "           2       1.00      1.00      1.00        30\n",
            "           3       1.00      1.00      1.00        41\n",
            "           4       0.97      1.00      0.98        32\n",
            "           5       0.98      1.00      0.99        46\n",
            "           6       1.00      1.00      1.00        32\n",
            "           7       1.00      1.00      1.00        40\n",
            "           8       0.98      0.95      0.96        42\n",
            "           9       1.00      0.93      0.96        29\n",
            "\n",
            "    accuracy                           0.99       360\n",
            "   macro avg       0.99      0.99      0.99       360\n",
            "weighted avg       0.99      0.99      0.99       360\n",
            "\n"
          ]
        }
      ]
    },
    {
      "cell_type": "code",
      "source": [
        "from sklearn.linear_model import SGDClassifier #선형분류기인 SGDClassifier를 사용하기 위한 import\n",
        "sgd_model = SGDClassifier() # 모델 객체 생성\n",
        "\n",
        "print(sgd_model._estimator_type) # 이 모델의 타입을 확인\n",
        "sgd_model.fit(X_train, y_train) # sgd모델로 훈련데이터로 훈련시킨다.\n",
        "y_pred = sgd_model.predict(X_test)# 그 모델로 test데이터를 사용해 예측\n",
        "\n",
        "print(classification_report(y_test, y_pred)) # 결과 지표를 확인"
      ],
      "metadata": {
        "colab": {
          "base_uri": "https://localhost:8080/"
        },
        "id": "YDvh4b9POoUG",
        "outputId": "6c11745c-6a67-4913-a6de-45e832f2354c"
      },
      "execution_count": 54,
      "outputs": [
        {
          "output_type": "stream",
          "name": "stdout",
          "text": [
            "classifier\n",
            "              precision    recall  f1-score   support\n",
            "\n",
            "           0       1.00      0.94      0.97        32\n",
            "           1       0.97      0.94      0.96        36\n",
            "           2       1.00      0.97      0.98        30\n",
            "           3       0.95      0.98      0.96        41\n",
            "           4       0.94      0.97      0.95        32\n",
            "           5       0.98      0.98      0.98        46\n",
            "           6       1.00      1.00      1.00        32\n",
            "           7       0.97      0.95      0.96        40\n",
            "           8       0.91      0.98      0.94        42\n",
            "           9       0.93      0.93      0.93        29\n",
            "\n",
            "    accuracy                           0.96       360\n",
            "   macro avg       0.97      0.96      0.96       360\n",
            "weighted avg       0.96      0.96      0.96       360\n",
            "\n"
          ]
        }
      ]
    },
    {
      "cell_type": "code",
      "source": [
        "from sklearn.linear_model import LogisticRegression # 선형분류기인 LogisticRegression를 사용하기 위한 import\n",
        "logistic_model = LogisticRegression() # 모델 객체 생성\n",
        "\n",
        "print(logistic_model._estimator_type) # 이 모델의 타입을 확인\n",
        "\n",
        "logistic_model.fit(X_train, y_train) #LogisticRegression모델로 훈련데이터를 가지고 훈련시킨다.\n",
        "y_pred = logistic_model.predict(X_test) # 예측\n",
        "\n",
        "print(classification_report(y_test, y_pred)) # 결과 지표를 확인"
      ],
      "metadata": {
        "colab": {
          "base_uri": "https://localhost:8080/"
        },
        "id": "q18Cw9-XOvSq",
        "outputId": "094e90d5-ccb8-4f21-98cb-1137fa1679ea"
      },
      "execution_count": 55,
      "outputs": [
        {
          "output_type": "stream",
          "name": "stdout",
          "text": [
            "classifier\n",
            "              precision    recall  f1-score   support\n",
            "\n",
            "           0       1.00      1.00      1.00        32\n",
            "           1       0.95      0.97      0.96        36\n",
            "           2       1.00      1.00      1.00        30\n",
            "           3       0.98      1.00      0.99        41\n",
            "           4       0.94      0.97      0.95        32\n",
            "           5       0.98      0.98      0.98        46\n",
            "           6       1.00      1.00      1.00        32\n",
            "           7       0.97      0.97      0.97        40\n",
            "           8       1.00      0.95      0.98        42\n",
            "           9       0.96      0.93      0.95        29\n",
            "\n",
            "    accuracy                           0.98       360\n",
            "   macro avg       0.98      0.98      0.98       360\n",
            "weighted avg       0.98      0.98      0.98       360\n",
            "\n"
          ]
        },
        {
          "output_type": "stream",
          "name": "stderr",
          "text": [
            "/usr/local/lib/python3.10/dist-packages/sklearn/linear_model/_logistic.py:460: ConvergenceWarning: lbfgs failed to converge (status=1):\n",
            "STOP: TOTAL NO. of ITERATIONS REACHED LIMIT.\n",
            "\n",
            "Increase the number of iterations (max_iter) or scale the data as shown in:\n",
            "    https://scikit-learn.org/stable/modules/preprocessing.html\n",
            "Please also refer to the documentation for alternative solver options:\n",
            "    https://scikit-learn.org/stable/modules/linear_model.html#logistic-regression\n",
            "  n_iter_i = _check_optimize_result(\n"
          ]
        }
      ]
    },
    {
      "cell_type": "markdown",
      "source": [
        "## 모델을 평가해보기..  \n",
        "- 사실 테스트데이터를 전혀 이해하지 못해서, 어떤 결과가 더 좋은건지 모르겠음"
      ],
      "metadata": {
        "id": "YZiC6r36PVV3"
      }
    },
    {
      "cell_type": "markdown",
      "source": [
        "# GPT 답변  \n",
        "- Scikit-learn에서 제공하는 **Digits 데이터셋**(`load_digits`)은 0부터 9까지의 손으로 쓴 숫자를 분류하는 데이터셋입니다. 이미지 분류 문제이며, 각 이미지는 8x8 픽셀로 표현됩니다. **클래스가 10개**로 구성되어 있어 다중 클래스 분류 문제입니다. Digits 데이터셋은 **크기가 상대적으로 작고**, **특징 수가 적당히 많은** 편이라 여러 가지 머신러닝 모델을 비교하기에 적합합니다.\n",
        "\n",
        "다섯 가지 모델을 비교할 때, Digits 데이터셋에 적합한 이유를 설명하겠습니다.\n",
        "\n",
        "### 1. **SGDClassifier (Stochastic Gradient Descent)**\n",
        "   - **특징**: 확률적 경사 하강법(SGD)을 사용하여 선형 분류기를 학습합니다.\n",
        "   - **장점**: 대규모 데이터셋에서 학습이 빠르며, 특히 희소 데이터에 적합합니다.\n",
        "   - **단점**: Digits 데이터셋처럼 작은 크기의 데이터에서는 SGD가 최적의 성능을 내지 못할 수 있습니다.\n",
        "   - **추천**: Digits 데이터셋은 크기가 작고 복잡성이 낮기 때문에, SGD보다는 다른 모델이 더 적합할 수 있습니다.\n",
        "\n",
        "### 2. **SVM (Support Vector Machine)**\n",
        "   - **특징**: SVM은 데이터가 선형적으로 분리되지 않는 경우에도 커널을 사용해 고차원 공간에서 분류할 수 있습니다.\n",
        "   - **장점**: 작은 데이터셋에서 성능이 매우 좋으며, 특히 데이터가 선형적으로 분리되지 않을 때 뛰어난 성능을 발휘합니다.\n",
        "   - **단점**: 데이터셋이 크면 학습 속도가 느려질 수 있지만, Digits 데이터셋은 작아서 이 문제는 크지 않습니다.\n",
        "   - **추천**: Digits 데이터셋에서는 **SVM**이 매우 좋은 선택입니다. 성능이 높고 안정적인 결과를 기대할 수 있습니다.\n",
        "\n",
        "### 3. **RandomForestClassifier**\n",
        "   - **특징**: 여러 개의 결정 트리를 학습하여 앙상블 기법을 통해 예측하는 모델입니다.\n",
        "   - **장점**: 과적합 방지에 강하며, 데이터 전처리 없이도 안정적인 성능을 제공합니다. 분류 문제에서 매우 강력한 모델입니다.\n",
        "   - **단점**: 트리의 수가 많아지면 학습 시간이 조금 늘어날 수 있지만, Digits 데이터셋은 크기가 작아서 문제가 되지 않습니다.\n",
        "   - **추천**: Digits 데이터셋에서 높은 정확도를 제공하며, 일반적으로 **RandomForestClassifier**는 매우 좋은 성능을 발휘할 수 있습니다.\n",
        "\n",
        "### 4. **DecisionTreeClassifier**\n",
        "   - **특징**: 의사결정 규칙을 기반으로 트리를 형성하여 분류를 수행합니다.\n",
        "   - **장점**: 학습이 빠르고 해석이 쉬우며, 소규모 데이터셋에 적합합니다.\n",
        "   - **단점**: 과적합되기 쉬우며, 데이터가 복잡해지면 성능이 떨어질 수 있습니다.\n",
        "   - **추천**: Digits 데이터셋에 빠르게 적용할 수 있지만, **과적합을 방지하기 위해 트리 깊이를 제한**하는 것이 좋습니다.\n",
        "\n",
        "### 5. **LogisticRegression**\n",
        "   - **특징**: 선형 분류 모델로, 클래스 간 경계를 선형으로 구분합니다.\n",
        "   - **장점**: 간단하고 빠르며, 적당한 성능을 보입니다. 다중 클래스 문제에 대해 `one-vs-rest` 방식으로 적용할 수 있습니다.\n",
        "   - **단점**: 데이터가 선형적으로 분리되지 않으면 성능이 떨어질 수 있습니다.\n",
        "   - **추천**: Digits 데이터셋에서 **빠르고 간단하게 사용할 수 있는 모델**로 적합하지만, 비선형 패턴이 많으면 성능이 떨어질 수 있습니다.\n",
        "\n",
        "### 비교 분석\n",
        "\n",
        "- **데이터 크기**: Digits 데이터셋은 1797개의 샘플과 64개의 특징(8x8 이미지)을 가지고 있습니다. 작은 크기의 데이터셋이기 때문에 **학습 속도**는 대부분의 모델에서 큰 문제가 되지 않습니다.\n",
        "- **모델 해석**: **Logistic Regression**과 **Decision Tree**는 해석이 쉬운 모델입니다.\n",
        "- **최고의 성능**: **SVM**과 **RandomForestClassifier**가 가장 높은 성능을 발휘할 가능성이 큽니다. 특히 SVM은 작은 데이터셋에서 매우 높은 성능을 보일 수 있습니다.\n",
        "- **복잡도와 시간**: **RandomForestClassifier**는 상대적으로 복잡하고 시간이 조금 더 걸리지만, 높은 성능을 보장합니다. 반면, **Decision Tree**는 빠르지만 과적합 문제가 있을 수 있습니다.\n",
        "\n",
        "### 결론\n",
        "\n",
        "Digits 데이터셋에서 **최고의 성능**을 기대하려면:\n",
        "- **SVM**이나 **RandomForestClassifier**가 가장 효율적인 선택입니다.\n",
        "\n",
        "모델 해석의 용이성도 중요하다면:\n",
        "- **Logistic Regression**이나 **Decision Tree**도 적합합니다.\n",
        "\n",
        "성능을 최우선으로 한다면 **SVM**이 **Digits 데이터셋**에서는 매우 강력한 성능을 발휘할 수 있습니다. **RandomForestClassifier**도 안정적이고 높은 성능을 제공하므로 추천됩니다."
      ],
      "metadata": {
        "id": "3EPGai37UQT0"
      }
    },
    {
      "cell_type": "markdown",
      "source": [
        "# Project 02"
      ],
      "metadata": {
        "id": "fejhXhzbPVPF"
      }
    },
    {
      "cell_type": "code",
      "source": [
        "# (1) 필요한 모듈 import\n",
        "from sklearn.datasets import load_wine #싸이킷런 데이터셋에 있는 wine를 불러오는 코드\n",
        "from sklearn.model_selection import train_test_split #싸이킷런에 있는 데이터를 train과 test dataset으로 나누어주는 함수 import\n",
        "from sklearn.tree import DecisionTreeClassifier # 싸이킷런에 있는 결정트리분류기를 사용하기 위해 불러오는 코드\n",
        "from sklearn.metrics import classification_report #싸이킷런에 있는 분류 결과에 대한 시각화를 위해 쓰는 코드\n",
        "\n",
        "# (2) 데이터 준비\n",
        "wine = load_wine() #wine 데이터 전체를 불러온다.\n",
        "wine_data = wine.data #wine데이터의 data컬럼을 분류해 wine_data 변수에 담는다.\n",
        "wine_label = wine.target #wine데이터의 target컬럼을 분류해 wine_label 변수에 담는다.\n",
        "\n",
        "# (3) train, test 데이터 분리\n",
        "#train_test_split()를 사용하여 X값, y값을 각각 train data와 test data로 나눈다. 함수에 들어 갈 파라미터로는 x,y가 들어가고\n",
        "#test_size는 몇대몇으로 나눌지 정하는 옵션, random_state는 랜덤 패턴의 값을 지정한다. (어떤 값을 넣어도 무방하다.)\n",
        "X_train, X_test, y_train, y_test = train_test_split(wine_data,\n",
        "                                                    wine_label,\n",
        "                                                    test_size=0.2,\n",
        "                                                    random_state=7)\n",
        "\n",
        "\n",
        "# (4) 모델 학습 및 예측\n",
        "decision_tree = DecisionTreeClassifier(random_state=32) #결정트리분류기의 객체를 만든다.\n",
        "decision_tree.fit(X_train, y_train) # 분류기에 x와 y의 훈련 데이터를 넣어 훈련 시킨다.\n",
        "y_pred = decision_tree.predict(X_test) # 훈련된 분류기에 X_test라는 테스트 데이터셋을 넣어 얼마나 예측했는지 확인한다.\n",
        "\n",
        "print(classification_report(y_test, y_pred)) # 결과를 지표로 확인하기 위해 classification_report를 활용해 y_test, y_pred 값을 넣어 확인한다."
      ],
      "metadata": {
        "colab": {
          "base_uri": "https://localhost:8080/"
        },
        "id": "KTN6rJJ4O46B",
        "outputId": "4e9e0655-8606-4631-8dd7-de8ddfcd7b5a"
      },
      "execution_count": 56,
      "outputs": [
        {
          "output_type": "stream",
          "name": "stdout",
          "text": [
            "              precision    recall  f1-score   support\n",
            "\n",
            "           0       1.00      1.00      1.00         7\n",
            "           1       0.89      1.00      0.94        17\n",
            "           2       1.00      0.83      0.91        12\n",
            "\n",
            "    accuracy                           0.94        36\n",
            "   macro avg       0.96      0.94      0.95        36\n",
            "weighted avg       0.95      0.94      0.94        36\n",
            "\n"
          ]
        }
      ]
    },
    {
      "cell_type": "code",
      "source": [
        "random_forest = RandomForestClassifier(random_state=2) # RandomForest분류기 객체를 생성\n",
        "random_forest.fit(X_train, y_train) # 훈련\n",
        "y_pred = random_forest.predict(X_test) # 예측\n",
        "\n",
        "print(classification_report(y_test, y_pred)) # 결과 지표를 확인"
      ],
      "metadata": {
        "colab": {
          "base_uri": "https://localhost:8080/"
        },
        "id": "y7Nci0TNQLo4",
        "outputId": "e5770432-6b6b-450a-ea7b-44f6217505e0"
      },
      "execution_count": 58,
      "outputs": [
        {
          "output_type": "stream",
          "name": "stdout",
          "text": [
            "              precision    recall  f1-score   support\n",
            "\n",
            "           0       1.00      1.00      1.00         7\n",
            "           1       1.00      1.00      1.00        17\n",
            "           2       1.00      1.00      1.00        12\n",
            "\n",
            "    accuracy                           1.00        36\n",
            "   macro avg       1.00      1.00      1.00        36\n",
            "weighted avg       1.00      1.00      1.00        36\n",
            "\n"
          ]
        }
      ]
    },
    {
      "cell_type": "code",
      "source": [
        "from sklearn import svm #Support Vector Machine을 사용하기 위해 import\n",
        "svm_model = svm.SVC() # 모델 객체를 만든다.\n",
        "\n",
        "print(svm_model._estimator_type) # 이 모델이 어떤 타입인지 확인한다.\n",
        "\n",
        "svm_model.fit(X_train, y_train) # 훈련\n",
        "y_pred = svm_model.predict(X_test) # 예측\n",
        "\n",
        "print(classification_report(y_test, y_pred)) # 결과 지표를 확인\n"
      ],
      "metadata": {
        "colab": {
          "base_uri": "https://localhost:8080/"
        },
        "id": "vq0u5z2lQalJ",
        "outputId": "dbb99833-96af-4d0f-d995-ea5373723999"
      },
      "execution_count": 59,
      "outputs": [
        {
          "output_type": "stream",
          "name": "stdout",
          "text": [
            "classifier\n",
            "              precision    recall  f1-score   support\n",
            "\n",
            "           0       0.86      0.86      0.86         7\n",
            "           1       0.58      0.88      0.70        17\n",
            "           2       0.33      0.08      0.13        12\n",
            "\n",
            "    accuracy                           0.61        36\n",
            "   macro avg       0.59      0.61      0.56        36\n",
            "weighted avg       0.55      0.61      0.54        36\n",
            "\n"
          ]
        }
      ]
    },
    {
      "cell_type": "code",
      "source": [
        "from sklearn.linear_model import SGDClassifier #선형분류기인 SGDClassifier를 사용하기 위한 import\n",
        "sgd_model = SGDClassifier() # 모델 객체 생성\n",
        "\n",
        "print(sgd_model._estimator_type) # 이 모델의 타입을 확인\n",
        "sgd_model.fit(X_train, y_train) # sgd모델로 훈련데이터로 훈련시킨다.\n",
        "y_pred = sgd_model.predict(X_test)# 그 모델로 test데이터를 사용해 예측\n",
        "\n",
        "print(classification_report(y_test, y_pred)) # 결과 지표를 확인"
      ],
      "metadata": {
        "colab": {
          "base_uri": "https://localhost:8080/"
        },
        "id": "qMewLsd1Qd_Y",
        "outputId": "5a429ea6-bbb7-4de8-bfab-dbabe603431d"
      },
      "execution_count": 60,
      "outputs": [
        {
          "output_type": "stream",
          "name": "stdout",
          "text": [
            "classifier\n",
            "              precision    recall  f1-score   support\n",
            "\n",
            "           0       0.88      1.00      0.93         7\n",
            "           1       0.00      0.00      0.00        17\n",
            "           2       0.43      1.00      0.60        12\n",
            "\n",
            "    accuracy                           0.53        36\n",
            "   macro avg       0.43      0.67      0.51        36\n",
            "weighted avg       0.31      0.53      0.38        36\n",
            "\n"
          ]
        },
        {
          "output_type": "stream",
          "name": "stderr",
          "text": [
            "/usr/local/lib/python3.10/dist-packages/sklearn/metrics/_classification.py:1471: UndefinedMetricWarning: Precision and F-score are ill-defined and being set to 0.0 in labels with no predicted samples. Use `zero_division` parameter to control this behavior.\n",
            "  _warn_prf(average, modifier, msg_start, len(result))\n",
            "/usr/local/lib/python3.10/dist-packages/sklearn/metrics/_classification.py:1471: UndefinedMetricWarning: Precision and F-score are ill-defined and being set to 0.0 in labels with no predicted samples. Use `zero_division` parameter to control this behavior.\n",
            "  _warn_prf(average, modifier, msg_start, len(result))\n",
            "/usr/local/lib/python3.10/dist-packages/sklearn/metrics/_classification.py:1471: UndefinedMetricWarning: Precision and F-score are ill-defined and being set to 0.0 in labels with no predicted samples. Use `zero_division` parameter to control this behavior.\n",
            "  _warn_prf(average, modifier, msg_start, len(result))\n"
          ]
        }
      ]
    },
    {
      "cell_type": "code",
      "source": [
        "from sklearn.linear_model import LogisticRegression # 선형분류기인 LogisticRegression를 사용하기 위한 import\n",
        "logistic_model = LogisticRegression() # 모델 객체 생성\n",
        "\n",
        "print(logistic_model._estimator_type) # 이 모델의 타입을 확인\n",
        "\n",
        "logistic_model.fit(X_train, y_train) #LogisticRegression모델로 훈련데이터를 가지고 훈련시킨다.\n",
        "y_pred = logistic_model.predict(X_test) # 예측\n",
        "\n",
        "print(classification_report(y_test, y_pred)) # 결과 지표를 확인"
      ],
      "metadata": {
        "colab": {
          "base_uri": "https://localhost:8080/"
        },
        "id": "fzfeF28ZQhy3",
        "outputId": "ded739e8-a73b-4fc0-b556-723b82dbce98"
      },
      "execution_count": 61,
      "outputs": [
        {
          "output_type": "stream",
          "name": "stdout",
          "text": [
            "classifier\n",
            "              precision    recall  f1-score   support\n",
            "\n",
            "           0       1.00      0.86      0.92         7\n",
            "           1       0.94      1.00      0.97        17\n",
            "           2       1.00      1.00      1.00        12\n",
            "\n",
            "    accuracy                           0.97        36\n",
            "   macro avg       0.98      0.95      0.96        36\n",
            "weighted avg       0.97      0.97      0.97        36\n",
            "\n"
          ]
        },
        {
          "output_type": "stream",
          "name": "stderr",
          "text": [
            "/usr/local/lib/python3.10/dist-packages/sklearn/linear_model/_logistic.py:460: ConvergenceWarning: lbfgs failed to converge (status=1):\n",
            "STOP: TOTAL NO. of ITERATIONS REACHED LIMIT.\n",
            "\n",
            "Increase the number of iterations (max_iter) or scale the data as shown in:\n",
            "    https://scikit-learn.org/stable/modules/preprocessing.html\n",
            "Please also refer to the documentation for alternative solver options:\n",
            "    https://scikit-learn.org/stable/modules/linear_model.html#logistic-regression\n",
            "  n_iter_i = _check_optimize_result(\n"
          ]
        }
      ]
    },
    {
      "cell_type": "markdown",
      "source": [
        "# 역시나 알 수가 없다...  \n",
        "- 오류가 왜 발생하는지도 모르겠다.. 오류가 발생한다는 건 적절한 방법이 아니라는 것이 아닐까?   \n",
        "- SGD 오류는 학습부족 혹은 클래스 불균형 문제로 인해 발생하는 것 같다\n",
        "  -  '''\n",
        "   Precision(정밀도)와 F1-score가 일부 클래스에 대해 정의되지 않았음을 나타냅니다. 이 문제는 주로 특정 클래스에 대해 모델이 예측을 하지 않았을 때 발생합니다. 즉, 예측된 클래스 중 일부 클래스가 전혀 없기 때문에 해당 클래스에 대한 정밀도와 F1-score를 계산할 수 없는 경우입니다.\n",
        "  '''  \n",
        "\n",
        "- 오류가 발생한 logisticregression에 대해 GPT에 물어보니 데이터가 스케일링이 되지 않아서 이런 오류가 뜬다고 함\n",
        "  - ''' 이 오류 메시지는 Logistic Regression 모델이 주어진 데이터로 충분히 수렴하지 않았음을 나타냅니다. 일반적으로 이런 문제가 발생하는 이유는:\n",
        "\n",
        "    데이터가 스케일링되지 않음:\n",
        "\n",
        "      Logistic Regression은 데이터 스케일에 민감합니다. 만약 입력 데이터의 특성(feature) 값들이 서로 다른 스케일(예: 일부는 1에서 1000, 일부는 0에서 1)이라면, 모델이 최적의 솔루션을 찾기 어렵습니다.\n",
        "      이를 해결하기 위해 데이터 스케일링(표준화 또는 정규화)을 적용해야 합니다. 예를 들어, StandardScaler 또는 MinMaxScaler를 사용해 데이터를 스케일링할 수 있습니다.\n",
        "    최대 반복 횟수 부족:\n",
        "\n",
        "      Logistic Regression 모델이 수렴하지 않은 이유 중 하나는 반복 횟수(max_iter)가 부족하기 때문일 수 있습니다. 기본적으로 max_iter=100인데, 이는 데이터에 따라 충분하지 않을 수 있습니다. 반복 횟수를 늘려서 문제를 해결할 수 있습니다\n",
        "'''"
      ],
      "metadata": {
        "id": "RURq4vmZPdJZ"
      }
    },
    {
      "cell_type": "markdown",
      "source": [
        "# GPT의 답변을 첨부합니다.  \n",
        "- Scikit-learn에서 제공하는 **Wine 데이터셋**(`load_wine`)은 다양한 머신러닝 모델을 테스트하고 비교할 수 있는 좋은 예제입니다. 와인의 화학 성분을 기반으로 세 가지 와인 품종을 분류하는 문제이며, 이 문제에 대해 어떤 예측 모델이 가장 효율적인지는 여러 요인에 따라 달라질 수 있습니다. 일반적으로는 모델의 **성능(정확도)**, **훈련 시간**, **해석 용이성**, **모델의 복잡도** 등을 고려해야 합니다.\n",
        "\n",
        "다섯 가지 모델을 비교할 때 각각의 특성과 Wine 데이터셋에 적합한 이유를 간단히 설명하겠습니다.\n",
        "\n",
        "### 1. **SGDClassifier (Stochastic Gradient Descent)**\n",
        "   - **특징**: 확률적 경사 하강법을 사용하여 선형 분류기를 학습합니다. 데이터가 매우 큰 경우 효율적입니다.\n",
        "   - **장점**: 대규모 데이터셋에서 학습이 매우 빠르며, 특히 희소 데이터에 적합합니다.\n",
        "   - **단점**: Wine 데이터셋은 비교적 작기 때문에, SGDClassifier가 최적의 성능을 보이지 않을 수 있습니다.\n",
        "   - **추천**: 작은 데이터셋에서는 비효율적일 수 있으므로 Wine 데이터셋에서는 최적의 선택이 아닐 수 있습니다.\n",
        "\n",
        "### 2. **SVM (Support Vector Machine)**\n",
        "   - **특징**: 데이터가 선형적으로 분리되지 않는 경우에도 커널을 사용해 고차원 공간에서 분류 가능.\n",
        "   - **장점**: 작은 데이터셋에서는 매우 좋은 성능을 발휘할 수 있습니다. 특히 데이터가 선형적으로 분리되지 않을 때 뛰어난 성능을 발휘합니다.\n",
        "   - **단점**: 데이터셋이 커지면 학습 속도가 느려지고, 메모리 사용량이 증가할 수 있습니다.\n",
        "   - **추천**: Wine 데이터셋처럼 작은 크기에서는 좋은 성능을 발휘할 가능성이 큽니다.\n",
        "\n",
        "### 3. **RandomForestClassifier**\n",
        "   - **특징**: 여러 개의 결정 트리를 학습하여 앙상블 기법을 통해 예측하는 모델입니다.\n",
        "   - **장점**: 매우 강력한 모델로, 과적합 방지에도 강하고, 데이터 전처리의 필요성이 적습니다.\n",
        "   - **단점**: 매우 복잡한 모델로, 학습 시간이 길어질 수 있습니다.\n",
        "   - **추천**: Wine 데이터셋에서 높은 정확도를 기대할 수 있으며, 대체로 성능이 매우 좋습니다. 앙상블 모델이므로 비교적 안정적이고 정확한 결과를 제공합니다.\n",
        "\n",
        "### 4. **DecisionTreeClassifier**\n",
        "   - **특징**: 데이터에 대한 의사결정 규칙을 기반으로 트리를 형성하여 분류를 수행합니다.\n",
        "   - **장점**: 매우 직관적이고 해석하기 쉬우며, 학습 속도가 빠릅니다.\n",
        "   - **단점**: 트리 깊이를 제한하지 않으면 과적합될 수 있습니다. 이는 작은 데이터셋에서도 문제로 작용할 수 있습니다.\n",
        "   - **추천**: Wine 데이터셋에 빠르게 적용할 수 있으며, 파라미터를 잘 조정하면 괜찮은 성능을 기대할 수 있지만, 과적합 문제에 주의해야 합니다.\n",
        "\n",
        "### 5. **LogisticRegression**\n",
        "   - **특징**: 선형 모델로, 클래스 간의 경계를 직선(또는 초평면)으로 구분합니다.\n",
        "   - **장점**: 간단하고 해석이 쉬운 모델입니다. 작은 데이터셋에서도 빠르게 수렴하며, 과적합을 방지하기 위한 정규화를 지원합니다.\n",
        "   - **단점**: 데이터가 선형적으로 구분되지 않으면 성능이 떨어질 수 있습니다.\n",
        "   - **추천**: Wine 데이터셋에서 빠르고 간단한 방법으로 학습할 수 있으며, 기본적인 성능은 충분히 보장합니다.\n",
        "\n",
        "### 비교 분석\n",
        "\n",
        "- **데이터 크기**: Wine 데이터셋은 비교적 작고, 약간의 비선형성 및 상관관계가 존재합니다. 이 때문에 매우 복잡한 모델(SGDClassifier)보다 적당한 복잡도의 모델이 더 적합할 수 있습니다.\n",
        "- **모델 해석**: 해석이 용이한 모델을 원한다면 **Logistic Regression**이나 **Decision Tree**가 좋습니다.\n",
        "- **최고의 성능**: **RandomForestClassifier**나 **SVM**이 가장 높은 성능을 발휘할 가능성이 큽니다. 특히 **RandomForest**는 과적합을 방지하면서 높은 성능을 내기 때문에 일반적으로 많은 데이터셋에서 좋은 결과를 제공합니다.\n",
        "- **복잡도와 시간**: **Decision Tree**는 학습 시간이 짧고, 해석이 용이하다는 장점이 있지만, 과적합 가능성이 있습니다. **RandomForest**는 안정적이지만 상대적으로 시간이 조금 더 소요됩니다.\n",
        "\n",
        "### 결론\n",
        "\n",
        "Wine 데이터셋에서 **최고의 성능**을 기대하려면:\n",
        "- **RandomForestClassifier** 또는 **SVM**을 사용하는 것이 가장 효율적일 가능성이 큽니다.\n",
        "\n",
        "만약 성능과 함께 **모델 해석 용이성**도 고려해야 한다면:\n",
        "- **Logistic Regression** 또는 **Decision Tree**가 적합합니다.\n",
        "\n",
        "성능이 최우선이라면 **RandomForestClassifier**가 가장 추천됩니다."
      ],
      "metadata": {
        "id": "vn7gFrMKTwLG"
      }
    },
    {
      "cell_type": "markdown",
      "source": [
        "# Project 3"
      ],
      "metadata": {
        "id": "hnXza0hvQy3U"
      }
    },
    {
      "cell_type": "code",
      "source": [
        "# (1) 필요한 모듈 import\n",
        "from sklearn.datasets import load_breast_cancer #싸이킷런 데이터셋에 있는 breast_cancer를 불러오는 코드\n",
        "from sklearn.model_selection import train_test_split #싸이킷런에 있는 데이터를 train과 test dataset으로 나누어주는 함수 import\n",
        "from sklearn.tree import DecisionTreeClassifier # 싸이킷런에 있는 결정트리분류기를 사용하기 위해 불러오는 코드\n",
        "from sklearn.metrics import classification_report #싸이킷런에 있는 분류 결과에 대한 시각화를 위해 쓰는 코드\n",
        "\n",
        "# (2) 데이터 준비\n",
        "breast_cancer = load_breast_cancer() #breast_cancer 데이터 전체를 불러온다.\n",
        "breast_cancer_data = breast_cancer.data #breast_cancer데이터의 data컬럼을 분류해 breast_cancer_data 변수에 담는다.\n",
        "breast_cancer_label = breast_cancer.target #breast_cancer데이터의 target컬럼을 분류해 breast_cancer_label 변수에 담는다.\n",
        "\n",
        "# (3) train, test 데이터 분리\n",
        "#train_test_split()를 사용하여 X값, y값을 각각 train data와 test data로 나눈다. 함수에 들어 갈 파라미터로는 x,y가 들어가고\n",
        "#test_size는 몇대몇으로 나눌지 정하는 옵션, random_state는 랜덤 패턴의 값을 지정한다. (어떤 값을 넣어도 무방하다.)\n",
        "X_train, X_test, y_train, y_test = train_test_split(breast_cancer_data,\n",
        "                                                    breast_cancer_label,\n",
        "                                                    test_size=0.25,\n",
        "                                                    random_state=2)\n",
        "\n",
        "\n",
        "# (4) 모델 학습 및 예측\n",
        "decision_tree = DecisionTreeClassifier(random_state=28) #결정트리분류기의 객체를 만든다.\n",
        "decision_tree.fit(X_train, y_train) # 분류기에 x와 y의 훈련 데이터를 넣어 훈련 시킨다.\n",
        "y_pred = decision_tree.predict(X_test) # 훈련된 분류기에 X_test라는 테스트 데이터셋을 넣어 얼마나 예측했는지 확인한다.\n",
        "\n",
        "print(classification_report(y_test, y_pred)) # 결과를 지표로 확인하기 위해 classification_report를 활용해 y_test, y_pred 값을 넣어 확인한다."
      ],
      "metadata": {
        "colab": {
          "base_uri": "https://localhost:8080/"
        },
        "id": "EKrEj2yDQnv2",
        "outputId": "2e9a5218-536c-4df2-98d1-b954367408ce"
      },
      "execution_count": 62,
      "outputs": [
        {
          "output_type": "stream",
          "name": "stdout",
          "text": [
            "              precision    recall  f1-score   support\n",
            "\n",
            "           0       0.89      0.96      0.92        56\n",
            "           1       0.98      0.92      0.95        87\n",
            "\n",
            "    accuracy                           0.94       143\n",
            "   macro avg       0.93      0.94      0.93       143\n",
            "weighted avg       0.94      0.94      0.94       143\n",
            "\n"
          ]
        }
      ]
    },
    {
      "cell_type": "code",
      "source": [
        "random_forest = RandomForestClassifier(random_state=2) # RandomForest분류기 객체를 생성\n",
        "random_forest.fit(X_train, y_train) # 훈련\n",
        "y_pred = random_forest.predict(X_test) # 예측\n",
        "\n",
        "print(classification_report(y_test, y_pred)) # 결과 지표를 확인"
      ],
      "metadata": {
        "colab": {
          "base_uri": "https://localhost:8080/"
        },
        "id": "N0nLoNYTRPHu",
        "outputId": "7cdb1a87-0eb4-4ce0-9d42-6dfd5c5a7ce9"
      },
      "execution_count": 63,
      "outputs": [
        {
          "output_type": "stream",
          "name": "stdout",
          "text": [
            "              precision    recall  f1-score   support\n",
            "\n",
            "           0       0.90      0.95      0.92        56\n",
            "           1       0.96      0.93      0.95        87\n",
            "\n",
            "    accuracy                           0.94       143\n",
            "   macro avg       0.93      0.94      0.93       143\n",
            "weighted avg       0.94      0.94      0.94       143\n",
            "\n"
          ]
        }
      ]
    },
    {
      "cell_type": "code",
      "source": [
        "from sklearn import svm #Support Vector Machine을 사용하기 위해 import\n",
        "svm_model = svm.SVC() # 모델 객체를 만든다.\n",
        "\n",
        "print(svm_model._estimator_type) # 이 모델이 어떤 타입인지 확인한다.\n",
        "\n",
        "svm_model.fit(X_train, y_train) # 훈련\n",
        "y_pred = svm_model.predict(X_test) # 예측\n",
        "\n",
        "print(classification_report(y_test, y_pred)) # 결과 지표를 확인\n"
      ],
      "metadata": {
        "colab": {
          "base_uri": "https://localhost:8080/"
        },
        "id": "oZe65q0aRSno",
        "outputId": "394ef9b4-618b-4312-f18f-2c4d099a2537"
      },
      "execution_count": 64,
      "outputs": [
        {
          "output_type": "stream",
          "name": "stdout",
          "text": [
            "classifier\n",
            "              precision    recall  f1-score   support\n",
            "\n",
            "           0       0.92      0.86      0.89        56\n",
            "           1       0.91      0.95      0.93        87\n",
            "\n",
            "    accuracy                           0.92       143\n",
            "   macro avg       0.92      0.91      0.91       143\n",
            "weighted avg       0.92      0.92      0.92       143\n",
            "\n"
          ]
        }
      ]
    },
    {
      "cell_type": "code",
      "source": [
        "from sklearn.linear_model import SGDClassifier #선형분류기인 SGDClassifier를 사용하기 위한 import\n",
        "sgd_model = SGDClassifier() # 모델 객체 생성\n",
        "\n",
        "print(sgd_model._estimator_type) # 이 모델의 타입을 확인\n",
        "sgd_model.fit(X_train, y_train) # sgd모델로 훈련데이터로 훈련시킨다.\n",
        "y_pred = sgd_model.predict(X_test)# 그 모델로 test데이터를 사용해 예측\n",
        "\n",
        "print(classification_report(y_test, y_pred)) # 결과 지표를 확인"
      ],
      "metadata": {
        "colab": {
          "base_uri": "https://localhost:8080/"
        },
        "id": "ixx0d9XHRVkw",
        "outputId": "20323676-ccf7-43cd-b943-713599e01870"
      },
      "execution_count": 65,
      "outputs": [
        {
          "output_type": "stream",
          "name": "stdout",
          "text": [
            "classifier\n",
            "              precision    recall  f1-score   support\n",
            "\n",
            "           0       0.76      0.93      0.84        56\n",
            "           1       0.95      0.82      0.88        87\n",
            "\n",
            "    accuracy                           0.86       143\n",
            "   macro avg       0.86      0.87      0.86       143\n",
            "weighted avg       0.88      0.86      0.86       143\n",
            "\n"
          ]
        }
      ]
    },
    {
      "cell_type": "code",
      "source": [
        "from sklearn.linear_model import LogisticRegression # 선형분류기인 LogisticRegression를 사용하기 위한 import\n",
        "logistic_model = LogisticRegression() # 모델 객체 생성\n",
        "\n",
        "print(logistic_model._estimator_type) # 이 모델의 타입을 확인\n",
        "\n",
        "logistic_model.fit(X_train, y_train) #LogisticRegression모델로 훈련데이터를 가지고 훈련시킨다.\n",
        "y_pred = logistic_model.predict(X_test) # 예측\n",
        "\n",
        "print(classification_report(y_test, y_pred)) # 결과 지표를 확인"
      ],
      "metadata": {
        "colab": {
          "base_uri": "https://localhost:8080/"
        },
        "id": "Oh0lpeXoRYcf",
        "outputId": "3f56fa85-5789-4433-a993-845ad2d3969f"
      },
      "execution_count": 66,
      "outputs": [
        {
          "output_type": "stream",
          "name": "stdout",
          "text": [
            "classifier\n",
            "              precision    recall  f1-score   support\n",
            "\n",
            "           0       0.91      0.93      0.92        56\n",
            "           1       0.95      0.94      0.95        87\n",
            "\n",
            "    accuracy                           0.94       143\n",
            "   macro avg       0.93      0.94      0.93       143\n",
            "weighted avg       0.94      0.94      0.94       143\n",
            "\n"
          ]
        },
        {
          "output_type": "stream",
          "name": "stderr",
          "text": [
            "/usr/local/lib/python3.10/dist-packages/sklearn/linear_model/_logistic.py:460: ConvergenceWarning: lbfgs failed to converge (status=1):\n",
            "STOP: TOTAL NO. of ITERATIONS REACHED LIMIT.\n",
            "\n",
            "Increase the number of iterations (max_iter) or scale the data as shown in:\n",
            "    https://scikit-learn.org/stable/modules/preprocessing.html\n",
            "Please also refer to the documentation for alternative solver options:\n",
            "    https://scikit-learn.org/stable/modules/linear_model.html#logistic-regression\n",
            "  n_iter_i = _check_optimize_result(\n"
          ]
        }
      ]
    },
    {
      "cell_type": "markdown",
      "source": [
        "# 흠  \n",
        "- 오류가 발생하지 않은 나머지 것들 중 적용해야 맞지 않을까?  \n",
        "- 머신러닝의 과정에 대한 이해가 없이 진행하니 사실 이해가 되지 않는다.\n",
        "- 머신러닝의 기초에 관한 노드학습이 먼저 진행되었다면 좀 더 좋지 않았을 까 하는 아쉬움이 들지만, 아쉬움을 표현하기에는 매번 나는 이해를 잘 못하는 것 같다...\n"
      ],
      "metadata": {
        "id": "Dk_jVIcFSvZb"
      }
    },
    {
      "cell_type": "markdown",
      "source": [
        "# GPT의 답변  \n",
        "Scikit-learn에서 제공하는 **Breast Cancer 데이터셋**(`load_breast_cancer`)은 유방암 진단을 위한 데이터셋으로, 종양이 양성인지 악성인지를 분류하는 문제입니다. 이 데이터셋은 **2개의 클래스(양성, 악성)**로 구성된 **이진 분류 문제**이며, 총 **30개의 특징(feature)**을 가지고 있습니다. 데이터셋 크기도 적당해서 여러 모델을 테스트하기에 좋은 데이터셋입니다.\n",
        "\n",
        "다섯 가지 모델을 비교할 때, Breast Cancer 데이터셋에 적합한 이유를 설명하겠습니다.\n",
        "\n",
        "### 1. **SGDClassifier (Stochastic Gradient Descent)**\n",
        "   - **특징**: 확률적 경사 하강법(SGD)을 사용하여 선형 분류기를 학습합니다.\n",
        "   - **장점**: 매우 큰 데이터셋에서 학습이 빠르고, 특히 희소 데이터에 적합합니다.\n",
        "   - **단점**: Breast Cancer 데이터셋은 비교적 작은 크기이기 때문에, SGD의 장점인 빠른 학습 속도가 필요하지 않을 수 있습니다. 작은 데이터셋에서는 다른 모델보다 성능이 떨어질 수 있습니다.\n",
        "   - **추천**: Breast Cancer 데이터셋처럼 크기가 작고 비선형적인 관계가 있는 데이터에서는 SGD보다 다른 모델이 더 적합할 수 있습니다.\n",
        "\n",
        "### 2. **SVM (Support Vector Machine)**\n",
        "   - **특징**: SVM은 데이터가 선형적으로 분리되지 않는 경우에도 커널을 사용해 고차원 공간에서 분류할 수 있습니다.\n",
        "   - **장점**: 작은 데이터셋에서 매우 높은 성능을 발휘할 수 있습니다. 특히 데이터가 선형적으로 완벽히 분리되지 않는 경우, SVM이 뛰어난 성능을 보일 수 있습니다.\n",
        "   - **단점**: 데이터셋이 커질수록 학습 속도가 느려질 수 있지만, Breast Cancer 데이터셋은 크기가 작기 때문에 문제가 되지 않습니다.\n",
        "   - **추천**: Breast Cancer 데이터셋에서는 **SVM**이 매우 높은 성능을 보일 가능성이 큽니다.\n",
        "\n",
        "### 3. **RandomForestClassifier**\n",
        "   - **특징**: 여러 개의 결정 트리를 학습하여 앙상블 기법을 통해 예측하는 모델입니다.\n",
        "   - **장점**: 과적합을 방지하면서도 매우 강력한 성능을 제공합니다. 데이터 전처리가 거의 필요하지 않으며, 결측치에 덜 민감합니다.\n",
        "   - **단점**: 트리의 수가 많아지면 학습 시간이 조금 늘어날 수 있지만, Breast Cancer 데이터셋은 크기가 작아서 학습 시간은 문제가 되지 않습니다.\n",
        "   - **추천**: 이 데이터셋에서 **RandomForestClassifier**는 매우 좋은 성능을 발휘할 수 있습니다. 앙상블 모델이기 때문에 높은 정확도와 안정성을 기대할 수 있습니다.\n",
        "\n",
        "### 4. **DecisionTreeClassifier**\n",
        "   - **특징**: 의사결정 규칙을 기반으로 트리를 형성하여 분류를 수행합니다.\n",
        "   - **장점**: 매우 직관적이고 해석하기 쉬우며, 학습 속도가 빠릅니다. 소규모 데이터셋에 적합하고, 모델의 구조가 해석하기 쉬워 의사결정의 근거를 설명하기 용이합니다.\n",
        "   - **단점**: 과적합되기 쉽습니다. 특히 트리 깊이를 제한하지 않으면 성능이 떨어질 수 있습니다.\n",
        "   - **추천**: Breast Cancer 데이터셋에서는 적당한 트리 깊이 제한을 설정하여 과적합을 방지하면 **빠르고 직관적인 결과**를 얻을 수 있습니다.\n",
        "\n",
        "### 5. **LogisticRegression**\n",
        "   - **특징**: 선형 분류 모델로, 클래스 간 경계를 선형으로 구분합니다.\n",
        "   - **장점**: 간단하고 빠르게 학습할 수 있으며, 이진 분류 문제에 적합합니다. 정규화 기법(L2 정규화)을 통해 과적합을 방지할 수 있습니다.\n",
        "   - **단점**: 데이터가 선형적으로 분리되지 않으면 성능이 떨어질 수 있습니다.\n",
        "   - **추천**: Breast Cancer 데이터셋에서 **Logistic Regression**은 매우 좋은 선택입니다. 모델이 간단하지만 이진 분류 문제에서 강력한 성능을 발휘합니다.\n",
        "\n",
        "### 비교 분석\n",
        "\n",
        "- **데이터 크기**: Breast Cancer 데이터셋은 569개의 샘플과 30개의 특징을 가지고 있으며, 상대적으로 작은 데이터셋입니다. 모든 모델이 적절하게 작동할 수 있는 크기입니다.\n",
        "- **모델 해석**: **Logistic Regression**과 **Decision Tree**는 해석이 쉬운 모델입니다. 특히 **Decision Tree**는 모델이 어떻게 의사결정을 하는지 직관적으로 파악할 수 있습니다.\n",
        "- **최고의 성능**: **SVM**과 **RandomForestClassifier**가 가장 높은 성능을 발휘할 가능성이 큽니다. 특히 **RandomForestClassifier**는 데이터 전처리가 적고 안정적인 성능을 제공합니다.\n",
        "- **복잡도와 시간**: **Decision Tree**는 학습 시간이 짧고 빠르며, **RandomForestClassifier**는 성능이 뛰어나지만 시간이 조금 더 걸릴 수 있습니다.\n",
        "\n",
        "### 결론\n",
        "\n",
        "Breast Cancer 데이터셋에서 **최고의 성능**을 기대하려면:\n",
        "- **SVM** 또는 **RandomForestClassifier**가 가장 효율적일 가능성이 큽니다. 특히 **SVM**은 데이터가 작을 때 매우 강력한 성능을 발휘합니다.\n",
        "\n",
        "모델 해석의 용이성도 중요하다면:\n",
        "- **Logistic Regression**과 **Decision Tree**가 적합합니다.\n",
        "\n",
        "성능을 최우선으로 한다면 **SVM** 또는 **RandomForestClassifier**가 **Breast Cancer 데이터셋**에서 높은 정확도를 기대할 수 있습니다. **Logistic Regression**은 이진 분류 문제에 적합하고 빠르게 학습할 수 있어 실용적입니다."
      ],
      "metadata": {
        "id": "vspuhdgzUcUB"
      }
    },
    {
      "cell_type": "code",
      "source": [],
      "metadata": {
        "id": "07d22ho0Rbzj"
      },
      "execution_count": null,
      "outputs": []
    }
  ]
}