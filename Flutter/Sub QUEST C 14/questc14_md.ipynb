{
  "nbformat": 4,
  "nbformat_minor": 0,
  "metadata": {
    "colab": {
      "provenance": [],
      "authorship_tag": "ABX9TyPJqXan8lLKBwF7la3k4/yP",
      "include_colab_link": true
    },
    "kernelspec": {
      "name": "python3",
      "display_name": "Python 3"
    },
    "language_info": {
      "name": "python"
    }
  },
  "cells": [
    {
      "cell_type": "markdown",
      "metadata": {
        "id": "view-in-github",
        "colab_type": "text"
      },
      "source": [
        "<a href=\"https://colab.research.google.com/github/chanxxw/AIFFEL_quest_cr/blob/master/Flutter/Sub%20QUEST%20C%2014/questc14_md.ipynb\" target=\"_parent\"><img src=\"https://colab.research.google.com/assets/colab-badge.svg\" alt=\"Open In Colab\"/></a>"
      ]
    },
    {
      "cell_type": "code",
      "execution_count": null,
      "metadata": {
        "id": "0xKmE8BKYcDd"
      },
      "outputs": [],
      "source": []
    },
    {
      "cell_type": "markdown",
      "source": [
        "## 듀오링고 앱분석  \n",
        "\n",
        "## 앱 정보\n",
        "\n",
        "- **앱 이름**\n",
        "\n",
        "  - 듀오링고    \n",
        "\n",
        "- ** 시장성 **\n",
        "- 전 세계적인 사용자 기반: 듀오링고는 수억 명의 사용자를 보유하고 있으며, 다양한 문화와 언어권에서 사용됩니다.\n",
        "- 온라인 교육 시장의 성장: 디지털 학습에 대한 수요 증가로 인해 온라인 교육 플랫폼의 시장 규모가 확대되고 있습니다.\n",
        "- 프리미엄 서비스 모델: 기본적으로 무료로 제공되지만, 광고 제거 및 추가 기능을 위한 유료 구독 서비스를 통해 수익을 창출합니다.\n",
        "- 파트너십 및 인증 프로그램: 교육 기관 및 기업과의 협력을 통해 공식 인증을 제공하여 신뢰성을 높였습니다.\n",
        "\n",
        "- ** 주요 타겟 **\n",
        "- 언어 학습자: 새로운 언어를 배우고자 하는 학생, 직장인, 여행자 등 다양한 연령대의 개인.\n",
        "- 자기계발에 관심 있는 사람들: 시간과 장소에 구애받지 않고 학습하고자 하는 사람들.\n",
        "- 교육 기관 및 단체: 학교나 기업에서 보조 학습 도구로 활용하기 위해 도입하는 경우도 있습니다.\n",
        "\n",
        "- ** 특징 **\n",
        "- 게임화된 학습 경험: 레벨업, 보상 시스템, 일일 목표 설정 등 게임 요소를 도입하여 학습 동기를 부여합니다.\n",
        "- 다양한 언어 지원: 영어, 스페인어, 프랑스어 등 주요 언어뿐만 아니라 클링온어, 하이발리리아어 같은 특이한 언어도 제공합니다.\n",
        "- 개인화된 학습 경로: 인공지능을 활용하여 개인의 학습 패턴과 수준에 맞는 콘텐츠를 제공합니다.\n",
        "- 커뮤니티 기능: 토론 포럼과 친구 추가 기능을 통해 다른 학습자들과 소통하고 경쟁할 수 있습니다.\n",
        "- 접근성: 모바일 앱과 웹 플랫폼 모두 지원하여 언제 어디서나 학습이 가능합니다.\n",
        "\n",
        "\n",
        "## 앱 구조도\n",
        "\n",
        "![그림2](./2.jpeg)\n",
        "![그림1](./1.jpeg)\n",
        "\n",
        "\n",
        "\n",
        "## 앱 와이어프레임 (사용 툴 : 굿노트)\n",
        "\n",
        "![그림3](./3.jpeg)\n",
        "\n",
        "\n",
        "## 프로토타이핑 (사용 툴 : 마블앱)\n",
        "\n",
        "![그림4](./듀오링고.gif)\n",
        "\n",
        "\n",
        "\n",
        "## 페이지 구현\n",
        "1. main.dart - 메인 화면으로 기본적인 구성으로만 작성 되어 있습니다.\n",
        "2. loading.dart - 로딩페이지\n",
        "3. mypage.dart - 나의페이지\n",
        "4. my_location.dart - 위치정보를 포함한 런닝 기록\n",
        "5. run_test.dart - 런냥이 테스트 페이지\n",
        "\n",
        "\n",
        "\n",
        "## 구현영상\n",
        "![그림5](./subquestc14.gif)\n",
        "\n",
        "\n",
        "\n",
        "## 참고 학습 자료\n",
        "- GPT O1\n",
        "\n",
        "## 회고\n",
        "구현된 어플리케이션을 분석하고 재설계하는 부분이 재미있었습니다.     \n",
        "하지만 아직 플러터가 익숙하지 않아서 구현에 많은 어려움이 있었습니다.      \n",
        "더 많이 연습해서 최종 프로젝트인 아이펠톤에서는 나만의 AI 어플리케이션을 만들어낼겁니다.     \n",
        "화이팅!!!"
      ],
      "metadata": {
        "id": "kK6z-LFCYgAG"
      }
    }
  ]
}