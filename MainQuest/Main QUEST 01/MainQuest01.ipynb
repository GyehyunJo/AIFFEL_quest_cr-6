{
  "nbformat": 4,
  "nbformat_minor": 0,
  "metadata": {
    "colab": {
      "provenance": [],
      "authorship_tag": "ABX9TyOkTYpmv2WFtAYa9OVeUCG5",
      "include_colab_link": true
    },
    "kernelspec": {
      "name": "python3",
      "display_name": "Python 3"
    },
    "language_info": {
      "name": "python"
    }
  },
  "cells": [
    {
      "cell_type": "markdown",
      "metadata": {
        "id": "view-in-github",
        "colab_type": "text"
      },
      "source": [
        "<a href=\"https://colab.research.google.com/github/chanxxw/AIFFEL_quest_cr/blob/master/MainQuest/Main%20QUEST%2001/MainQuest01.ipynb\" target=\"_parent\"><img src=\"https://colab.research.google.com/assets/colab-badge.svg\" alt=\"Open In Colab\"/></a>"
      ]
    },
    {
      "cell_type": "markdown",
      "source": [
        "## [메인 퀘스트 1번: 은행계좌 만들기 - 3점]\n",
        "Q1. Account 클래스 : 은행에 가서 계좌를 개설하면 은행이름, 예금주, 계좌번호, 잔액이 설정됩니다.  \n",
        "  Account 클래스를 생성한 후 생성자(hint: 매직매서드..!!)를 구현해보세요.  \n",
        "  생성자에서는 예금주와 초기 잔액만 입력 받습니다.   \n",
        "  은행이름은 SC은행으로 계좌번호는 3자리-2자리-6자리 형태로 랜덤하게 생성됩니다.  \n",
        "  (은행이름: SC은행, 계좌번호: 111-11-111111)  \n",
        "    \n",
        "Q2. 클래스 변수: 클래스 변수를 사용해서 Account 클래스로부터 생성된 계좌 객체의 개수를 저장하세요.  \n",
        "  \n",
        "Q3. 클래스 변수 출력 : Account 클래스로부터 생성된 계좌의 개수를 출력하는 get_account_num() 메서드를 추가하세요.  \n",
        "  \n",
        "Q4. 입금 메서드 : Account 클래스에 입금을 위한 deposit 메서드를 추가하세요.   \n",
        "입금은 최소 1원 이상만 가능합니다.  \n",
        "  \n",
        "Q5. 출금 메서드 : Account 클래스에 출금을 위한 withdraw 메서드를 추가하세요.   \n",
        "출금은 계좌의 잔고 이상으로 출금할 수는 없습니다.    \n",
        "  \n",
        "Q6. 정보 출력 메서드 : Account 인스턴스에 저장된 정보를 출력하는 display_info() 메서드를 추가하세요.   \n",
        "잔고는 세자리마다 쉼표를 출력하세요.  \n",
        "(은행이름: SC은행, 예금주: 파이썬, 계좌번호: 111-11-111111, 잔고: 10,000원)  \n",
        "  \n",
        "Q7. 이자 지급하기 : 입금 횟수가 5회가 될 때 잔고를 기준으로 1%의 이자가 잔고에 추가되도록 코드를 변경해보세요.  \n",
        "  \n",
        "Q8. 여러 객체 생성 : Account 클래스로부터 3개 이상 인스턴스를 생성하고 생성된 인스턴스를 리스트에 저장해보세요.  \n",
        "  \n",
        "Q9. 객체 순회 반복문을 통해 리스트에 있는 객체를 순회하면서 잔고가 100만원 이상인 고객의 정보만 출력하세요.  \n",
        "  \n",
        "Q10. 입금과 출금 내역이 기록되도록 코드를 업데이트 하세요.  \n",
        "(입금 내역과 출금 내역을 출력하는 deposit_history와 withdraw_history 메서드를 추가하세요.)  "
      ],
      "metadata": {
        "id": "RxBUuyJmKXhW"
      }
    },
    {
      "cell_type": "code",
      "execution_count": 100,
      "metadata": {
        "id": "Vns0vFsyKXDs"
      },
      "outputs": [],
      "source": [
        "import random                             #randint 함수 사용하기 위한 random 모듈 소환\n",
        "\n",
        "class Account:\n",
        "    account_count = 0                     #Q2 객체 갯수 저장하기 위한 0 설정\n",
        "    def __init__(self, owner, balance):   # Account 클래스 : 은행이름, 예금주, 계좌번호, 잔액 설정\n",
        "      self.bank = \"SC은행\"                 #은행이름 SC은행으로 고정\n",
        "      self.number = self.generate_number()  #계좌번호는 3자리-2자리-6자리 형태로 랜덤하게 생성(아래 함수에서)\n",
        "      self.owner = owner                  # 예금주와 초기 잔액만 입력 받음\n",
        "      self.balance = balance\n",
        "      self.deposit_count = 0              #Q7 입금 횟수를 추적하기 위한 변수\n",
        "      self.deposit_history = []               #Q10 입금 내역을 저장하기 위한 로그 기록\n",
        "      self.withdraw_history = []              #Q10 출금 내역을 저장하기 위한 로그 기록\n",
        "      Account.account_count += 1          #Q2 클래스 변수: 클래스 변수를 사용해서 Account 클래스로부터 생성된 계좌 객체의 개수를 저장\n",
        "\n",
        "    def generate_number(self):\n",
        "      return f\"{str(random.randint(0, 999)).zfill(3)}-{str(random.randint(0, 99)).zfill(2)}-{str(random.randint(0, 999999)).zfill(6)}\" #계좌번호는 3자리-2자리-6자리 형태로 랜덤하게 생성\n",
        "     # 출력하였더니 각 숫자가 0으로 시작하면 출력되지 않아 이러한 부분에 대해 str 함수 걸고, 검색해서 zfill()함수를 추가해보았습니다. 아니면 시작을 100 / 10 / 100000 부터로 걸면 문제가 생기진 않을 것 같습니다만 해당 요구사항은 없으니..\n",
        "    @classmethod                          #Q3. 클래스 메서드\n",
        "    def get_account_num(cls):\n",
        "      return cls.account_count            #솔직히 왜 여기에 cls를 넣었는지 모르겠음\n",
        "\n",
        "    def deposit(self, amount):            #Q4. 입금 메서드\n",
        "      if amount >= 0:\n",
        "        self.balance += amount\n",
        "        self.deposit_count += 1           #Q7 입금 횟수 기록\n",
        "        if self.deposit_count % 5 == 0:   #Q7 입금 횟수가 5회가 될 때 잔고를 기준으로 1%의 이자가 잔고에 추가되도록 코드를 변경\n",
        "          self.balance *= 1.01\n",
        "        self.deposit_history.append(amount)   #Q10 입금 내역 기록\n",
        "      return self.balance\n",
        "\n",
        "    def withdraw(self, amount):           #Q5. 출금 메서드\n",
        "      if self.balance >= amount:\n",
        "        self.balance -= amount\n",
        "        self.withdraw_history.append(amount)  #Q10 출금 내역 기록\n",
        "      return self.balance\n",
        "\n",
        "    def display_info(self):               #Q6 정보 출력 메서드\n",
        "      print(f\"은행이름: {self.bank}, 예금주: {self.owner}, 계좌번호: {self.number}, 잔고: {self.balance:,}원\")\n",
        "\n",
        "    def show_deposit_history(self):            #Q10 입금 내역 출력 메서드\n",
        "      for amount in self.deposit_history:\n",
        "        print(f\"입금 내역: {amount}\")\n",
        "\n",
        "    def show_withdraw_history(self):           #Q10 출금 내역 출력 메서드\n",
        "      for amount in self.withdraw_history:\n",
        "        print(f\"출금 내역: {amount}\")\n"
      ]
    },
    {
      "cell_type": "code",
      "source": [
        "def create_account(account_list):                         #은행계좌 만들기 input 함수 생성\n",
        "    owner = input(\"예금주명을 입력하세요: \")\n",
        "    balance = int(input(\"초기 입금액을 입력하세요: \"))\n",
        "    new_account = Account(owner, balance)\n",
        "    account_list.append(new_account)\n",
        "    return new_account\n",
        "\n",
        "account_list = []\n",
        "\n",
        "account1 = create_account(account_list)  # 사용자 입력을 받아 계좌를 생성\n",
        "account1.display_info()  # 생성된 계좌의 정보를 출력\n"
      ],
      "metadata": {
        "colab": {
          "base_uri": "https://localhost:8080/"
        },
        "id": "a_blVoHQnyyc",
        "outputId": "8766655b-c3c2-4a19-f791-3407c800ad01"
      },
      "execution_count": 101,
      "outputs": [
        {
          "output_type": "stream",
          "name": "stdout",
          "text": [
            "예금주명을 입력하세요: 김우찬\n",
            "초기 입금액을 입력하세요: 200000000\n",
            "은행이름: SC은행, 예금주: 김우찬, 계좌번호: 587-07-983550, 잔고: 200,000,000원\n"
          ]
        }
      ]
    },
    {
      "cell_type": "code",
      "source": [
        "# Q6 실제 출력 예시 / 은행이름: SC은행, 예금주: 파이썬, 계좌번호: 111-11-111111, 잔고: 10,000원\n",
        "account_1 = Account(\"파이썬\", 100000)\n",
        "account_1.display_info()\n"
      ],
      "metadata": {
        "colab": {
          "base_uri": "https://localhost:8080/"
        },
        "id": "WCbMEhJePu9S",
        "outputId": "bc939f8f-26e4-4207-e1d4-a592e926ad82"
      },
      "execution_count": 102,
      "outputs": [
        {
          "output_type": "stream",
          "name": "stdout",
          "text": [
            "은행이름: SC은행, 예금주: 파이썬, 계좌번호: 814-70-372579, 잔고: 100,000원\n"
          ]
        }
      ]
    },
    {
      "cell_type": "code",
      "source": [
        "# Q8 3개 이상의 인스턴스 생성, 리스트에 저장\n",
        "account_2 = Account(\"아이펠\", 2000000)\n",
        "account_3 = Account(\"모두연\", 30000000)\n",
        "account_list.extend([account_1, account_2, account_3])\n",
        "\n",
        "print(f\"현재 계좌의 총 개수는 {len(account_list)}개 입니다\") # 생성된 계좌의 갯수 출력"
      ],
      "metadata": {
        "colab": {
          "base_uri": "https://localhost:8080/"
        },
        "id": "6tEFy0UfUiBo",
        "outputId": "75d6d2e9-9063-4885-b66f-2066eebd8b3c"
      },
      "execution_count": 103,
      "outputs": [
        {
          "output_type": "stream",
          "name": "stdout",
          "text": [
            "현재 계좌의 총 개수는 4개 입니다\n"
          ]
        }
      ]
    },
    {
      "cell_type": "code",
      "source": [
        "# Q9 객체 순회 및 잔고 100만원 이상 고객 정보 출력\n",
        "rich_owners = [account.owner for account in account_list if account.balance >= 1000000]\n",
        "\n",
        "if rich_owners:\n",
        "    print(\"100만원 이상 잔고를 보유한 고객 성함입니다:\", \", \".join(rich_owners))\n",
        "else:\n",
        "    print(\"100만원 이상 잔고를 보유한 고객이 없습니다.\")\n"
      ],
      "metadata": {
        "colab": {
          "base_uri": "https://localhost:8080/"
        },
        "id": "TQWc_iK_VeC-",
        "outputId": "eeb4c1fe-aff3-4fde-cc96-38174ce92218"
      },
      "execution_count": 104,
      "outputs": [
        {
          "output_type": "stream",
          "name": "stdout",
          "text": [
            "100만원 이상 잔고를 보유한 고객 성함입니다: 김우찬, 아이펠, 모두연\n"
          ]
        }
      ]
    },
    {
      "cell_type": "code",
      "source": [
        "def deposit_to_account(account, owner_name_input, amount_input):  # 입금 함수\n",
        "    if owner_name_input == account.owner:\n",
        "        account.deposit(amount_input)\n",
        "        print(f\"{amount_input:,}원이 입금되었습니다. 현재 잔고는 {account.balance:,}원입니다.\")\n",
        "    else:\n",
        "        print(\"예금주명이 일치하지 않습니다. 입금이 취소되었습니다.\")\n",
        "deposit_to_account(account_1, \"파이썬\", 50000)  # 예금주명 '파이썬'이 맞을 때\n",
        "deposit_to_account(account_2, \"아이펠\", 2250000)  # 입금내역 확인 위한 추가\n",
        "deposit_to_account(account_1, \"아이펠\", 50000)  # 예금주명이 틀릴 때 입금 실패용"
      ],
      "metadata": {
        "colab": {
          "base_uri": "https://localhost:8080/"
        },
        "id": "yyD0IfV9t_Bi",
        "outputId": "48a46d13-c411-40ac-94f8-0c705f00742e"
      },
      "execution_count": 105,
      "outputs": [
        {
          "output_type": "stream",
          "name": "stdout",
          "text": [
            "50,000원이 입금되었습니다. 현재 잔고는 150,000원입니다.\n",
            "2,250,000원이 입금되었습니다. 현재 잔고는 4,250,000원입니다.\n",
            "예금주명이 일치하지 않습니다. 입금이 취소되었습니다.\n"
          ]
        }
      ]
    },
    {
      "cell_type": "code",
      "source": [
        "def withdraw_from_account(account, owner_name_input, amount_input):  # 출금 함수\n",
        "    if owner_name_input == account.owner:\n",
        "        if account.balance >= amount_input:\n",
        "            account.withdraw(amount_input)\n",
        "            print(f\"{amount_input:,}원이 출금되었습니다. 현재 잔고는 {account.balance:,}원입니다.\")\n",
        "        else:\n",
        "            print(\"잔고가 부족합니다. 출금이 취소되었습니다.\")\n",
        "    else:\n",
        "        print(\"예금주명이 일치하지 않습니다. 출금이 취소되었습니다.\")\n",
        "withdraw_from_account(account_1, \"파이썬\", 50000)  # 예금주명 '파이썬'이 맞고 잔고가 충분할 때\n",
        "withdraw_from_account(account_1, \"파이썬\", 100000)  # 예금주명 '파이썬'이 맞고 잔고 0원으로 수렴\n",
        "withdraw_from_account(account_1, \"파이썬\", 200000)  # 예금주명 '파이썬'이 맞고 잔고가 부족할 때\n",
        "withdraw_from_account(account_1, \"아이펠\", 50000)  # 예금주명이 틀릴 때"
      ],
      "metadata": {
        "colab": {
          "base_uri": "https://localhost:8080/"
        },
        "id": "2xhifcibvE1X",
        "outputId": "953039cb-0d9f-465f-b1fd-881f633f2a29"
      },
      "execution_count": 106,
      "outputs": [
        {
          "output_type": "stream",
          "name": "stdout",
          "text": [
            "50,000원이 출금되었습니다. 현재 잔고는 100,000원입니다.\n",
            "100,000원이 출금되었습니다. 현재 잔고는 0원입니다.\n",
            "잔고가 부족합니다. 출금이 취소되었습니다.\n",
            "예금주명이 일치하지 않습니다. 출금이 취소되었습니다.\n"
          ]
        }
      ]
    },
    {
      "cell_type": "code",
      "source": [
        "for account in account_list:\n",
        "    account.display_info()\n",
        "    account.show_deposit_history()   # 입금 내역 출력\n",
        "    account.show_withdraw_history()  # 출금 내역 출력\n",
        "    print(\"-\" * 50)"
      ],
      "metadata": {
        "colab": {
          "base_uri": "https://localhost:8080/"
        },
        "id": "9-lTDvznq9wf",
        "outputId": "e296146d-11f1-4ba4-c90c-908f7fd20302"
      },
      "execution_count": 107,
      "outputs": [
        {
          "output_type": "stream",
          "name": "stdout",
          "text": [
            "은행이름: SC은행, 예금주: 김우찬, 계좌번호: 587-07-983550, 잔고: 200,000,000원\n",
            "--------------------------------------------------\n",
            "은행이름: SC은행, 예금주: 파이썬, 계좌번호: 814-70-372579, 잔고: 0원\n",
            "입금 내역: 50000\n",
            "출금 내역: 50000\n",
            "출금 내역: 100000\n",
            "--------------------------------------------------\n",
            "은행이름: SC은행, 예금주: 아이펠, 계좌번호: 360-41-472518, 잔고: 4,250,000원\n",
            "입금 내역: 2250000\n",
            "--------------------------------------------------\n",
            "은행이름: SC은행, 예금주: 모두연, 계좌번호: 417-26-396662, 잔고: 30,000,000원\n",
            "--------------------------------------------------\n"
          ]
        }
      ]
    },
    {
      "cell_type": "markdown",
      "source": [
        "#[메인 퀘스트 2번: 간단한 자동사냥 RPG 만들기 - 2점]   \n",
        "  \n",
        "- 간단한 자동사냥 RPG 게임을 만들어봅시다! 사용자의 이름을 입력 받아 플레이어를 생성하고, 몬스터들을 차례로 자동사냥하는 게임을 만들어보고자 합니다.  \n",
        "### Q1. Character 클래스 만들기\n",
        "- 이름, 레벨, 체력, 공격력, 방어력의 속성을 가짐  \n",
        "- 인스턴스의 현재 체력이 0 이상인지 bool 값을 반환하는 is_alive 메서드 만들기  \n",
        "- 공격을 받았을 때, (받은 데미지 - 본인의 방어력)만큼 현재 체력이 감소하는 take_damage 메서드 만들기  \n",
        " + 본인의 방어력이 데미지보다 크다면 체력 감소하지 않음  \n",
        "- 타겟에게 데미지를 입히는 attack_target 메서드 만들기    \n",
        " + 데미지는 1부터 공격력 사이의 랜덤한 정수  \n",
        "\n",
        "### Q2. Player 클래스와 Monster 클래스 만들기.  \n",
        "Character 클래스를 상속 받는 Player와 Monster 클래스를 만들기.  \n",
        "● Player 클래스.   \n",
        "+ Character를 상속 받기.  \n",
        "+ 레벨 1, 체력 100, 공격력 25, 방어력 5로 초기화하기.  \n",
        "+ Player 클래스는 경험치 속성을 추가로 가짐.  \n",
        "+ 인수로 받은 정수 만큼 경험치를 획득하는 gain_experience 메서드 만들기.  \n",
        "+ 현재 경험치가 50이상이면 레벨을 1, 공격력을 10, 방어력을 5씩 올리는 level_up 메서드 만들기.  \n",
        "\n",
        "● Monster 클래스.  \n",
        "+ Character를 상속 받기.  \n",
        "+ 몬스터의 레벨에 비례하는 체력, 공격력, 방어력 초기화하기.  \n",
        " + 체력: 10~30 사이의 랜덤한 정수 * 레벨.  \n",
        " + 공격력: 5~20 사이의 랜덤한 정수 * 레벨.  \n",
        " + 방어력: 1~5 사이의 랜덤한 정수 * 레벨.\n",
        "\n",
        "### Q3. battle 함수 만들기\n",
        "● battle 함수  \n",
        "- Player 인스턴스와 Monster 인스턴스를 인수로 받아 둘 중 하나의 체력이 0 이하가 될 때까지 공격을\n",
        "주고 받는 함수  \n",
        "- 만약 Player 인스턴스가 살아남았다면  \n",
        " + Player 인스턴스에 (몬스터 레벨 * 20)만큼의 경험치를 추가  \n",
        " + player의 레벨업 메서드 호출  \n",
        " + ‘전투 승리!’를 출력  \n",
        "- Player 인스턴스가 살아남지 못했을 경우  \n",
        " + ‘전투 패배..’를 출력하기   \n",
        "\n",
        "### Q4. main 함수 만들기  \n",
        "- 몬스터의 이름, 레벨이 매핑된 딕셔너리 정의하기  \n",
        " + monster_dict = {‘슬라임’: 1, ‘고블린’: 2, ‘오크’: 3}  \n",
        "- 사용자로부터 이름을 입력받아 Player 인스턴스 생성하기  \n",
        "- 몬스터 딕셔너리로부터 Monster 인스턴스 생성하기  \n",
        "- 생성된 Monster 인스턴스와 Player 인스턴스가 battle 함수를 통해 전투  \n",
        " + player는 생성된 몬스터 3마리(슬라임, 고블린, 오크)와 모두 전투해야함  \n",
        " + 전투 도중에 Player가 사망하면 이후 전투를 진행하지 않고 ‘게임오버’ 출력하고 종료  "
      ],
      "metadata": {
        "id": "ZsFRrXUfVybH"
      }
    },
    {
      "cell_type": "code",
      "source": [
        "import random                                             # randint 함수 위한 random 모듈 호출\n",
        "class Character:\n",
        "    def __init__(self, name, level, hp, attack, defense): # 이름, 레벨, 체력, 공격력, 방어력의 속성을 가짐\n",
        "        self.name = name\n",
        "        self.level = level\n",
        "        self.hp = hp\n",
        "        self.attack = attack\n",
        "        self.defense = defense\n",
        "    def is_alive(self):                                   # 인스턴스의 현재 체력이 0 이상인지 bool 값을 반환하는 is_alive 메서드\n",
        "        return self.hp > 0\n",
        "    def take_damage(self, damage):                        # 공격을 받았을 때, (받은 데미지 - 본인의 방어력)만큼 현재 체력이 감소하는 take_damage 메서드\n",
        "        damage_taken = max(0, damage - self.defense)      # 본인의 방어력이 데미지보다 크다면 체력 감소하지 않음\n",
        "        self.hp -= damage_taken\n",
        "        print(f'{self.name}(이/가) {damage_taken}의 피해를 입었고, 현재 HP는 {self.hp}입니다.')\n",
        "\n",
        "    def attack_target(self, target):                      # 타겟에게 데미지를 입히는 attack_target 메서드\n",
        "        damage = random.randint(1, self.attack)           # 데미지는 1부터 공격력 사이의 랜덤한 정수\n",
        "        print(f'{self.name}(이/가) {target.name}에게 {damage}의 피해를 입혔습니다.')\n",
        "        target.take_damage(damage)\n",
        "\n",
        "\n",
        "class Player(Character):                                  # Q2. Player 클래스 만들기, Character를 상속 받기.\n",
        "    def __init__(self, name):\n",
        "        super().__init__(name, level=1, hp=100, attack=25, defense=5) # 레벨 1, 체력 100, 공격력 25, 방어력 5로 초기화하기.\n",
        "        self.experience = 0                               #Player 클래스는 경험치 속성을 추가로 가짐.\n",
        "\n",
        "    def gain_experience(self, amount):                    # 인수로 받은 정수 만큼 경험치를 획득하는 gain_experience 메서드 만들기.\n",
        "        self.experience += amount\n",
        "        print(f'{self.name}(이/가) {amount}의 경험치를 획득했습니다. 총 경험치는 {self.experience}입니다.')\n",
        "        self.level_up()\n",
        "\n",
        "    def level_up(self):\n",
        "        while self.experience >= 50:                     # 현재 경험치가 50이상이면 레벨을 1, 공격력을 10, 방어력을 5씩 올리는 level_up 메서드 만들기.\n",
        "            self.experience -= 50\n",
        "            self.level += 1\n",
        "            self.attack += 10\n",
        "            self.defense += 5\n",
        "            self.hp = 100  # 따로 고지된 건 없지만, 초기화 안하니까 계속 죽어서 레벨업 시 HP를 일반적으로 초기화하도록 수정하였습니다.. 일반적으로 게임에서 레벨업하면 hp 정상으로 돌아오니까..\n",
        "            print(f'{self.name}의 레벨이 올랐습니다! 레벨: {self.level}, 공격력: {self.attack}, 방어력: {self.defense}, HP: {self.hp}')\n",
        "\n",
        "\n",
        "class Monster(Character):                               # Q2 Monster 클래스에 Character를 상속 받기.\n",
        "    def __init__(self, name, level):\n",
        "        hp = random.randint(10, 30) * level\n",
        "        attack = random.randint(5, 20) * level\n",
        "        defense = random.randint(1, 5) * level\n",
        "        super().__init__(name, level, hp, attack, defense)\n"
      ],
      "metadata": {
        "id": "uuWNZMo8Y3Oa"
      },
      "execution_count": 108,
      "outputs": []
    },
    {
      "cell_type": "code",
      "source": [
        "def battle(player, monster):                        # Q3. battle 함수 만들기\n",
        "    print(f'야생의 {monster.name} (레벨 {monster.level})이(가) 나타났습니다!')\n",
        "    while player.is_alive() and monster.is_alive():\n",
        "        player.attack_target(monster)\n",
        "        if monster.is_alive():\n",
        "            monster.attack_target(player)\n",
        "\n",
        "    if player.is_alive():                           # Player 인스턴스가 살아남았다면\n",
        "        print('전투 승리!')                           # ‘전투 승리!’를 출력\n",
        "        player.gain_experience(monster.level * 20)  # Player 인스턴스에 (몬스터 레벨 * 20)만큼의 경험치를 추가\n",
        "        # 레벨업 메서드는 따로 호출하지 않음. gain_experience 메서드 내에서 경험치를 획득할 때 자동으로 level_up 메서드를 호출하도록 설계됨\n",
        "    else:                                           # Player 인스턴스가 살아남지 못했을 경우\n",
        "        print('전투 패배..')                          # '전투 패배..'를 출력\n",
        "        return False\n",
        "    return True\n",
        "\n",
        "\n"
      ],
      "metadata": {
        "id": "UsSkrmopiEyp"
      },
      "execution_count": 109,
      "outputs": []
    },
    {
      "cell_type": "code",
      "source": [
        "def main():                                               # Q4. main 함수 만들기\n",
        "    monster_dict = {'슬라임': 1, '고블린': 2, '오크': 3}      # 몬스터의 이름, 레벨이 매핑된 딕셔너리 정의하기 monster_dict = {‘슬라임’: 1, ‘고블린’: 2, ‘오크’: 3}\n",
        "    player_name = input('플레이어의 이름을 입력하세요: ')        # 사용자로부터 이름을 입력받아 Player 인스턴스 생성하기\n",
        "    player = Player(player_name)\n",
        "\n",
        "    for monster_name, monster_level in monster_dict.items():  # 몬스터 딕셔너리로부터 Monster 인스턴스 생성하기\n",
        "        monster = Monster(monster_name, monster_level)   # 생성된 Monster 인스턴스와 Player 인스턴스가 battle 함수를 통해 전투\n",
        "        if not battle(player, monster):                  # 전투 도중에 Player가 사망하면 이후 전투를 진행하지 않고 ‘게임오버’ 출력하고 종료\n",
        "            print('게임오버')\n",
        "            break\n",
        "    else:\n",
        "        print(f'{player.name}(이/가) 모든 몬스터를 물리쳤습니다! 당신의 승리입니다!')\n",
        "\n",
        "if __name__ == '__main__':\n",
        "    main()"
      ],
      "metadata": {
        "colab": {
          "base_uri": "https://localhost:8080/"
        },
        "id": "ekpR6GtljnrR",
        "outputId": "54a9e7e2-15b5-4be5-f661-2a1f1745168e"
      },
      "execution_count": 110,
      "outputs": [
        {
          "output_type": "stream",
          "name": "stdout",
          "text": [
            "플레이어의 이름을 입력하세요: 모두연\n",
            "야생의 슬라임 (레벨 1)이(가) 나타났습니다!\n",
            "모두연(이/가) 슬라임에게 18의 피해를 입혔습니다.\n",
            "슬라임(이/가) 16의 피해를 입었고, 현재 HP는 11입니다.\n",
            "슬라임(이/가) 모두연에게 4의 피해를 입혔습니다.\n",
            "모두연(이/가) 0의 피해를 입었고, 현재 HP는 100입니다.\n",
            "모두연(이/가) 슬라임에게 2의 피해를 입혔습니다.\n",
            "슬라임(이/가) 0의 피해를 입었고, 현재 HP는 11입니다.\n",
            "슬라임(이/가) 모두연에게 2의 피해를 입혔습니다.\n",
            "모두연(이/가) 0의 피해를 입었고, 현재 HP는 100입니다.\n",
            "모두연(이/가) 슬라임에게 15의 피해를 입혔습니다.\n",
            "슬라임(이/가) 13의 피해를 입었고, 현재 HP는 -2입니다.\n",
            "전투 승리!\n",
            "모두연(이/가) 20의 경험치를 획득했습니다. 총 경험치는 20입니다.\n",
            "야생의 고블린 (레벨 2)이(가) 나타났습니다!\n",
            "모두연(이/가) 고블린에게 3의 피해를 입혔습니다.\n",
            "고블린(이/가) 0의 피해를 입었고, 현재 HP는 22입니다.\n",
            "고블린(이/가) 모두연에게 5의 피해를 입혔습니다.\n",
            "모두연(이/가) 0의 피해를 입었고, 현재 HP는 100입니다.\n",
            "모두연(이/가) 고블린에게 24의 피해를 입혔습니다.\n",
            "고블린(이/가) 20의 피해를 입었고, 현재 HP는 2입니다.\n",
            "고블린(이/가) 모두연에게 7의 피해를 입혔습니다.\n",
            "모두연(이/가) 2의 피해를 입었고, 현재 HP는 98입니다.\n",
            "모두연(이/가) 고블린에게 12의 피해를 입혔습니다.\n",
            "고블린(이/가) 8의 피해를 입었고, 현재 HP는 -6입니다.\n",
            "전투 승리!\n",
            "모두연(이/가) 40의 경험치를 획득했습니다. 총 경험치는 60입니다.\n",
            "모두연의 레벨이 올랐습니다! 레벨: 2, 공격력: 35, 방어력: 10, HP: 100\n",
            "야생의 오크 (레벨 3)이(가) 나타났습니다!\n",
            "모두연(이/가) 오크에게 3의 피해를 입혔습니다.\n",
            "오크(이/가) 0의 피해를 입었고, 현재 HP는 57입니다.\n",
            "오크(이/가) 모두연에게 17의 피해를 입혔습니다.\n",
            "모두연(이/가) 7의 피해를 입었고, 현재 HP는 93입니다.\n",
            "모두연(이/가) 오크에게 31의 피해를 입혔습니다.\n",
            "오크(이/가) 19의 피해를 입었고, 현재 HP는 38입니다.\n",
            "오크(이/가) 모두연에게 24의 피해를 입혔습니다.\n",
            "모두연(이/가) 14의 피해를 입었고, 현재 HP는 79입니다.\n",
            "모두연(이/가) 오크에게 33의 피해를 입혔습니다.\n",
            "오크(이/가) 21의 피해를 입었고, 현재 HP는 17입니다.\n",
            "오크(이/가) 모두연에게 33의 피해를 입혔습니다.\n",
            "모두연(이/가) 23의 피해를 입었고, 현재 HP는 56입니다.\n",
            "모두연(이/가) 오크에게 25의 피해를 입혔습니다.\n",
            "오크(이/가) 13의 피해를 입었고, 현재 HP는 4입니다.\n",
            "오크(이/가) 모두연에게 8의 피해를 입혔습니다.\n",
            "모두연(이/가) 0의 피해를 입었고, 현재 HP는 56입니다.\n",
            "모두연(이/가) 오크에게 10의 피해를 입혔습니다.\n",
            "오크(이/가) 0의 피해를 입었고, 현재 HP는 4입니다.\n",
            "오크(이/가) 모두연에게 6의 피해를 입혔습니다.\n",
            "모두연(이/가) 0의 피해를 입었고, 현재 HP는 56입니다.\n",
            "모두연(이/가) 오크에게 8의 피해를 입혔습니다.\n",
            "오크(이/가) 0의 피해를 입었고, 현재 HP는 4입니다.\n",
            "오크(이/가) 모두연에게 5의 피해를 입혔습니다.\n",
            "모두연(이/가) 0의 피해를 입었고, 현재 HP는 56입니다.\n",
            "모두연(이/가) 오크에게 32의 피해를 입혔습니다.\n",
            "오크(이/가) 20의 피해를 입었고, 현재 HP는 -16입니다.\n",
            "전투 승리!\n",
            "모두연(이/가) 60의 경험치를 획득했습니다. 총 경험치는 70입니다.\n",
            "모두연의 레벨이 올랐습니다! 레벨: 3, 공격력: 45, 방어력: 15, HP: 100\n",
            "모두연(이/가) 모든 몬스터를 물리쳤습니다! 당신의 승리입니다!\n"
          ]
        }
      ]
    }
  ]
}