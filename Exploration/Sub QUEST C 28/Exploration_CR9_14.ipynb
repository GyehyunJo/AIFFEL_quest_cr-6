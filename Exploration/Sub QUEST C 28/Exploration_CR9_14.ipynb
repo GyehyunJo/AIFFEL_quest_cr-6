{
 "cells": [
  {
   "cell_type": "markdown",
   "metadata": {
    "id": "EAn_70LjNMl3"
   },
   "source": [
    "## 0. 모델 고정해서 사용하기"
   ]
  },
  {
   "cell_type": "code",
   "execution_count": 1,
   "metadata": {
    "colab": {
     "base_uri": "https://localhost:8080/"
    },
    "id": "KSBfVrZHao9T",
    "outputId": "e425e6ff-30fe-484f-eff9-ca9a2f7c58d8"
   },
   "outputs": [
    {
     "name": "stdout",
     "output_type": "stream",
     "text": [
      "Collecting keras-tuner\n",
      "  Downloading keras_tuner-1.4.7-py3-none-any.whl (129 kB)\n",
      "     |████████████████████████████████| 129 kB 4.3 MB/s            \n",
      "\u001b[?25hRequirement already satisfied: requests in /opt/conda/lib/python3.9/site-packages (from keras-tuner) (2.26.0)\n",
      "Requirement already satisfied: packaging in /opt/conda/lib/python3.9/site-packages (from keras-tuner) (21.3)\n",
      "Collecting kt-legacy\n",
      "  Downloading kt_legacy-1.0.5-py3-none-any.whl (9.6 kB)\n",
      "Requirement already satisfied: keras in /opt/conda/lib/python3.9/site-packages (from keras-tuner) (2.6.0)\n",
      "Requirement already satisfied: pyparsing!=3.0.5,>=2.0.2 in /opt/conda/lib/python3.9/site-packages (from packaging->keras-tuner) (3.0.6)\n",
      "Requirement already satisfied: idna<4,>=2.5 in /opt/conda/lib/python3.9/site-packages (from requests->keras-tuner) (2.10)\n",
      "Requirement already satisfied: charset-normalizer~=2.0.0 in /opt/conda/lib/python3.9/site-packages (from requests->keras-tuner) (2.0.8)\n",
      "Requirement already satisfied: certifi>=2017.4.17 in /opt/conda/lib/python3.9/site-packages (from requests->keras-tuner) (2021.10.8)\n",
      "Requirement already satisfied: urllib3<1.27,>=1.21.1 in /opt/conda/lib/python3.9/site-packages (from requests->keras-tuner) (1.26.7)\n",
      "Installing collected packages: kt-legacy, keras-tuner\n",
      "Successfully installed keras-tuner-1.4.7 kt-legacy-1.0.5\n",
      "\u001b[33mWARNING: Running pip as the 'root' user can result in broken permissions and conflicting behaviour with the system package manager. It is recommended to use a virtual environment instead: https://pip.pypa.io/warnings/venv\u001b[0m\n"
     ]
    }
   ],
   "source": [
    "!pip install keras-tuner"
   ]
  },
  {
   "cell_type": "code",
   "execution_count": 2,
   "metadata": {
    "id": "RPF5w8E1Kh1J"
   },
   "outputs": [],
   "source": [
    "from tensorflow.keras.models import Sequential\n",
    "from tensorflow.keras.layers import Conv2D, AveragePooling2D, BatchNormalization, Flatten, Dense, Dropout\n",
    "from tensorflow.keras.datasets import cifar10\n",
    "import matplotlib.pyplot as plt"
   ]
  },
  {
   "cell_type": "code",
   "execution_count": 3,
   "metadata": {
    "colab": {
     "base_uri": "https://localhost:8080/",
     "height": 582
    },
    "id": "DGbsUATXNJvO",
    "outputId": "2ed60546-4b8d-4923-b963-3f90c2d9aec6"
   },
   "outputs": [
    {
     "name": "stdout",
     "output_type": "stream",
     "text": [
      "Model: \"sequential\"\n",
      "_________________________________________________________________\n",
      "Layer (type)                 Output Shape              Param #   \n",
      "=================================================================\n",
      "conv2d (Conv2D)              (None, 30, 30, 32)        896       \n",
      "_________________________________________________________________\n",
      "average_pooling2d (AveragePo (None, 15, 15, 32)        0         \n",
      "_________________________________________________________________\n",
      "batch_normalization (BatchNo (None, 15, 15, 32)        128       \n",
      "_________________________________________________________________\n",
      "conv2d_1 (Conv2D)            (None, 13, 13, 64)        18496     \n",
      "_________________________________________________________________\n",
      "average_pooling2d_1 (Average (None, 6, 6, 64)          0         \n",
      "_________________________________________________________________\n",
      "batch_normalization_1 (Batch (None, 6, 6, 64)          256       \n",
      "_________________________________________________________________\n",
      "flatten (Flatten)            (None, 2304)              0         \n",
      "_________________________________________________________________\n",
      "dense (Dense)                (None, 256)               590080    \n",
      "_________________________________________________________________\n",
      "dropout (Dropout)            (None, 256)               0         \n",
      "_________________________________________________________________\n",
      "dense_1 (Dense)              (None, 10)                2570      \n",
      "=================================================================\n",
      "Total params: 612,426\n",
      "Trainable params: 612,234\n",
      "Non-trainable params: 192\n",
      "_________________________________________________________________\n"
     ]
    }
   ],
   "source": [
    "# 모델 생성\n",
    "model = Sequential([\n",
    "    # 첫 번째 컨볼루션 블록\n",
    "    Conv2D(32, (3, 3), activation='relu', input_shape=(32, 32, 3)),\n",
    "    AveragePooling2D(pool_size=(2, 2)),\n",
    "    BatchNormalization(),\n",
    "\n",
    "    # 두 번째 컨볼루션 블록\n",
    "    Conv2D(64, (3, 3), activation='relu'),\n",
    "    AveragePooling2D(pool_size=(2, 2)),\n",
    "    BatchNormalization(),\n",
    "\n",
    "    # 플래튼 레이어\n",
    "    Flatten(),\n",
    "\n",
    "    # 완전 연결 레이어\n",
    "    Dense(256, activation='relu'),\n",
    "    Dropout(0.25),\n",
    "    Dense(10, activation='softmax') # 출력 클래스가 10개인 경우\n",
    "])\n",
    "\n",
    "model.summary()"
   ]
  },
  {
   "cell_type": "markdown",
   "metadata": {
    "id": "D2MGB-rsU-JQ"
   },
   "source": [
    "## 1. Data Centric AI 맛보기"
   ]
  },
  {
   "cell_type": "code",
   "execution_count": 4,
   "metadata": {
    "colab": {
     "base_uri": "https://localhost:8080/",
     "height": 1000
    },
    "id": "3-WrIaeCNRA2",
    "outputId": "0de11faf-bf22-45ef-9847-6863c48f5b34"
   },
   "outputs": [
    {
     "name": "stdout",
     "output_type": "stream",
     "text": [
      "Downloading data from https://www.cs.toronto.edu/~kriz/cifar-10-python.tar.gz\n",
      "170500096/170498071 [==============================] - 3s 0us/step\n",
      "170508288/170498071 [==============================] - 3s 0us/step\n"
     ]
    },
    {
     "data": {
      "image/png": "[encoded data removed]",
      "text/plain": [
       "<Figure size 432x288 with 1 Axes>"
      ]
     },
     "metadata": {
      "needs_background": "light"
     },
     "output_type": "display_data"
    },
    {
     "data": {
      "image/png": "[encoded data removed]",
      "text/plain": [
       "<Figure size 432x288 with 1 Axes>"
      ]
     },
     "metadata": {
      "needs_background": "light"
     },
     "output_type": "display_data"
    },
    {
     "data": {
      "image/png": "[encoded data removed]",
      "text/plain": [
       "<Figure size 432x288 with 1 Axes>"
      ]
     },
     "metadata": {
      "needs_background": "light"
     },
     "output_type": "display_data"
    }
   ],
   "source": [
    "# CIFAR-10 데이터 로드\n",
    "(x_train, y_train), (x_test, y_test) = cifar10.load_data()\n",
    "\n",
    "# ID 기반 시각화\n",
    "def visualize_data(ids, images, labels):\n",
    "    for idx in ids:\n",
    "        plt.imshow(images[idx])\n",
    "        plt.title(f\"Label: {labels[idx][0]}\")\n",
    "        plt.show()\n",
    "\n",
    "# 잘못된 라벨 ID\n",
    "error_ids = [2405, 6877, 8058]  # labelerrors.com에서 확인한 ID\n",
    "visualize_data(error_ids, x_test, y_test)\n",
    "\n",
    "# 라벨 수정\n",
    "correct_labels = [6, 8, 7]  # 수정할 라벨 값\n",
    "for i, idx in enumerate(error_ids):\n",
    "    y_test[idx] = correct_labels[i]"
   ]
  },
  {
   "cell_type": "markdown",
   "metadata": {
    "id": "IevySNeeY-NH"
   },
   "source": [
    "## 2. 하이퍼파라미터 튜닝"
   ]
  },
  {
   "cell_type": "code",
   "execution_count": 5,
   "metadata": {
    "id": "-jTnE4rRYCHX"
   },
   "outputs": [],
   "source": [
    "# 모델 정의 함수\n",
    "def build_model(hp):\n",
    "    model = Sequential([\n",
    "        Conv2D(hp.Int('conv1_filters', min_value=16, max_value=64, step=16), (3, 3), activation='relu', input_shape=(32, 32, 3)),\n",
    "        AveragePooling2D((2, 2)),\n",
    "        BatchNormalization(),\n",
    "        Conv2D(hp.Int('conv2_filters', min_value=32, max_value=128, step=32), (3, 3), activation='relu'),\n",
    "        AveragePooling2D((2, 2)),\n",
    "        BatchNormalization(),\n",
    "        Flatten(),\n",
    "        Dense(hp.Int('dense_units', min_value=128, max_value=512, step=128), activation='relu'),\n",
    "        Dropout(hp.Choice('dropout_rate', [0.2, 0.3, 0.5])),\n",
    "        Dense(10, activation='softmax')\n",
    "    ])\n",
    "    model.compile(optimizer='adam', loss='sparse_categorical_crossentropy', metrics=['accuracy'])\n",
    "    return model"
   ]
  },
  {
   "cell_type": "code",
   "execution_count": 6,
   "metadata": {
    "colab": {
     "base_uri": "https://localhost:8080/"
    },
    "id": "JoXGRCduZcV-",
    "outputId": "6b30ec9f-8635-4356-a390-70d4a493ea05"
   },
   "outputs": [
    {
     "name": "stdout",
     "output_type": "stream",
     "text": [
      "Trial 10 Complete [00h 02m 57s]\n",
      "val_accuracy: 0.7188000082969666\n",
      "\n",
      "Best val_accuracy So Far: 0.7474499940872192\n",
      "Total elapsed time: 00h 26m 28s\n",
      "최적 필터 크기 1: 48\n",
      "최적 필터 크기 2: 32\n",
      "최적 드롭아웃 비율: 0.5\n"
     ]
    }
   ],
   "source": [
    "from keras_tuner import RandomSearch\n",
    "\n",
    "tuner = RandomSearch(\n",
    "    build_model,\n",
    "    objective='val_accuracy',\n",
    "    max_trials=10,  # 시도할 모델의 개수\n",
    "    executions_per_trial=2,  # 각 하이퍼파라미터 조합별 반복 횟수\n",
    "    directory='cifar10_tuning',\n",
    "    project_name='cifar10_project'\n",
    ")\n",
    "\n",
    "tuner.search(x_train, y_train, epochs=10, validation_data=(x_test, y_test))\n",
    "\n",
    "# 최적의 하이퍼파라미터 출력\n",
    "best_hps = tuner.get_best_hyperparameters(1)[0]\n",
    "print(f\"최적 필터 크기 1: {best_hps.get('conv1_filters')}\")\n",
    "print(f\"최적 필터 크기 2: {best_hps.get('conv2_filters')}\")\n",
    "print(f\"최적 드롭아웃 비율: {best_hps.get('dropout_rate')}\")"
   ]
  },
  {
   "cell_type": "code",
   "execution_count": 7,
   "metadata": {
    "colab": {
     "base_uri": "https://localhost:8080/"
    },
    "id": "15UWjZkdZf5i",
    "outputId": "731afb8c-08b1-4f28-efd2-63a8ebdd8025"
   },
   "outputs": [
    {
     "name": "stdout",
     "output_type": "stream",
     "text": [
      "Epoch 1/20\n",
      "1563/1563 [==============================] - 9s 6ms/step - loss: 1.5048 - accuracy: 0.4896 - val_loss: 1.5183 - val_accuracy: 0.5023\n",
      "Epoch 2/20\n",
      "1563/1563 [==============================] - 9s 6ms/step - loss: 1.0821 - accuracy: 0.6188 - val_loss: 1.1856 - val_accuracy: 0.5853\n",
      "Epoch 3/20\n",
      "1563/1563 [==============================] - 9s 5ms/step - loss: 0.9350 - accuracy: 0.6730 - val_loss: 1.1356 - val_accuracy: 0.5970\n",
      "Epoch 4/20\n",
      "1563/1563 [==============================] - 9s 6ms/step - loss: 0.8354 - accuracy: 0.7081 - val_loss: 2.2538 - val_accuracy: 0.4215\n",
      "Epoch 5/20\n",
      "1563/1563 [==============================] - 9s 6ms/step - loss: 0.7458 - accuracy: 0.7387 - val_loss: 0.8332 - val_accuracy: 0.7157\n",
      "Epoch 6/20\n",
      "1563/1563 [==============================] - 8s 5ms/step - loss: 0.6759 - accuracy: 0.7628 - val_loss: 1.0010 - val_accuracy: 0.6526\n",
      "Epoch 7/20\n",
      "1563/1563 [==============================] - 8s 5ms/step - loss: 0.6109 - accuracy: 0.7857 - val_loss: 0.9666 - val_accuracy: 0.6960\n",
      "Epoch 8/20\n",
      "1563/1563 [==============================] - 9s 5ms/step - loss: 0.5552 - accuracy: 0.8042 - val_loss: 0.8361 - val_accuracy: 0.7205\n",
      "Epoch 9/20\n",
      "1563/1563 [==============================] - 9s 6ms/step - loss: 0.5158 - accuracy: 0.8184 - val_loss: 0.8599 - val_accuracy: 0.7099\n",
      "Epoch 10/20\n",
      "1563/1563 [==============================] - 9s 6ms/step - loss: 0.4704 - accuracy: 0.8326 - val_loss: 0.9987 - val_accuracy: 0.6816\n",
      "Epoch 11/20\n",
      "1563/1563 [==============================] - 8s 5ms/step - loss: 0.4346 - accuracy: 0.8453 - val_loss: 0.9530 - val_accuracy: 0.7066\n",
      "Epoch 12/20\n",
      "1563/1563 [==============================] - 6s 4ms/step - loss: 0.4055 - accuracy: 0.8577 - val_loss: 1.1359 - val_accuracy: 0.6782\n",
      "Epoch 13/20\n",
      "1563/1563 [==============================] - 6s 4ms/step - loss: 0.3825 - accuracy: 0.8661 - val_loss: 1.0305 - val_accuracy: 0.6850\n",
      "Epoch 14/20\n",
      "1563/1563 [==============================] - 6s 4ms/step - loss: 0.3515 - accuracy: 0.8746 - val_loss: 0.8839 - val_accuracy: 0.7419\n",
      "Epoch 15/20\n",
      "1563/1563 [==============================] - 6s 4ms/step - loss: 0.3373 - accuracy: 0.8806 - val_loss: 0.8914 - val_accuracy: 0.7407\n",
      "Epoch 16/20\n",
      "1563/1563 [==============================] - 6s 4ms/step - loss: 0.3132 - accuracy: 0.8898 - val_loss: 0.8601 - val_accuracy: 0.7447\n",
      "Epoch 17/20\n",
      "1563/1563 [==============================] - 6s 4ms/step - loss: 0.3052 - accuracy: 0.8913 - val_loss: 0.9062 - val_accuracy: 0.7501\n",
      "Epoch 18/20\n",
      "1563/1563 [==============================] - 8s 5ms/step - loss: 0.2834 - accuracy: 0.8986 - val_loss: 0.8966 - val_accuracy: 0.7385\n",
      "Epoch 19/20\n",
      "1563/1563 [==============================] - 9s 6ms/step - loss: 0.2701 - accuracy: 0.9049 - val_loss: 1.0213 - val_accuracy: 0.7289\n",
      "Epoch 20/20\n",
      "1563/1563 [==============================] - 9s 6ms/step - loss: 0.2649 - accuracy: 0.9077 - val_loss: 0.9514 - val_accuracy: 0.7509\n"
     ]
    }
   ],
   "source": [
    "# 최적 하이퍼파라미터로 모델 생성 및 학습\n",
    "model = tuner.hypermodel.build(best_hps)\n",
    "model.fit(x_train, y_train, epochs=20, validation_data=(x_test, y_test))\n",
    "\n",
    "# 모델 저장\n",
    "model.save('cifar10_saved_model.h5')"
   ]
  },
  {
   "cell_type": "markdown",
   "metadata": {
    "id": "cmGbq0LxhvCm"
   },
   "source": [
    "## 3. 모델 배포하기 (옵션)"
   ]
  },
  {
   "cell_type": "markdown",
   "metadata": {
    "id": "UxZKcKv8hzM_"
   },
   "source": [
    "## 4. TFLite 모델 만들기 (옵션)"
   ]
  },
  {
   "cell_type": "code",
   "execution_count": 8,
   "metadata": {
    "colab": {
     "base_uri": "https://localhost:8080/"
    },
    "id": "L9yY0mAOh04z",
    "outputId": "60d5d726-cd62-4813-a798-2c01fa7a8e8c"
   },
   "outputs": [
    {
     "name": "stdout",
     "output_type": "stream",
     "text": [
      "INFO:tensorflow:Assets written to: /tmp/tmpd2zyylh0/assets\n",
      "TFLite 모델이 성공적으로 저장되었습니다!\n"
     ]
    }
   ],
   "source": [
    "import tensorflow as tf\n",
    "\n",
    "# HDF5 파일로 저장된 모델 로드\n",
    "model = tf.keras.models.load_model('cifar10_saved_model.h5')\n",
    "\n",
    "# TFLite 변환\n",
    "converter = tf.lite.TFLiteConverter.from_keras_model(model)\n",
    "tflite_model = converter.convert()\n",
    "\n",
    "# TFLite 파일 저장\n",
    "with open('cifar10_model.tflite', 'wb') as f:\n",
    "    f.write(tflite_model)\n",
    "\n",
    "print(\"TFLite 모델이 성공적으로 저장되었습니다!\")"
   ]
  },
  {
   "cell_type": "code",
   "execution_count": 9,
   "metadata": {
    "colab": {
     "base_uri": "https://localhost:8080/"
    },
    "id": "Q462YAwbjtjm",
    "outputId": "b354b9ad-0312-4fe6-f42d-e10e7dec9fa5"
   },
   "outputs": [
    {
     "name": "stdout",
     "output_type": "stream",
     "text": [
      "입력 텐서 정보: [{'name': 'conv2d_2_input', 'index': 0, 'shape': array([ 1, 32, 32,  3], dtype=int32), 'shape_signature': array([-1, 32, 32,  3], dtype=int32), 'dtype': <class 'numpy.float32'>, 'quantization': (0.0, 0), 'quantization_parameters': {'scales': array([], dtype=float32), 'zero_points': array([], dtype=int32), 'quantized_dimension': 0}, 'sparsity_parameters': {}}]\n",
      "출력 텐서 정보: [{'name': 'Identity', 'index': 25, 'shape': array([ 1, 10], dtype=int32), 'shape_signature': array([-1, 10], dtype=int32), 'dtype': <class 'numpy.float32'>, 'quantization': (0.0, 0), 'quantization_parameters': {'scales': array([], dtype=float32), 'zero_points': array([], dtype=int32), 'quantized_dimension': 0}, 'sparsity_parameters': {}}]\n"
     ]
    }
   ],
   "source": [
    "# TFLite 모델 서명 확인\n",
    "interpreter = tf.lite.Interpreter(model_path='cifar10_model.tflite')\n",
    "interpreter.allocate_tensors()\n",
    "\n",
    "input_details = interpreter.get_input_details()\n",
    "output_details = interpreter.get_output_details()\n",
    "\n",
    "print(\"입력 텐서 정보:\", input_details)\n",
    "print(\"출력 텐서 정보:\", output_details)"
   ]
  }
 ],
 "metadata": {
  "accelerator": "GPU",
  "colab": {
   "gpuType": "T4",
   "provenance": []
  },
  "kernelspec": {
   "display_name": "Python 3 (ipykernel)",
   "language": "python",
   "name": "python3"
  },
  "language_info": {
   "codemirror_mode": {
    "name": "ipython",
    "version": 3
   },
   "file_extension": ".py",
   "mimetype": "text/x-python",
   "name": "python",
   "nbconvert_exporter": "python",
   "pygments_lexer": "ipython3",
   "version": "3.9.7"
  }
 },
 "nbformat": 4,
 "nbformat_minor": 1
}
