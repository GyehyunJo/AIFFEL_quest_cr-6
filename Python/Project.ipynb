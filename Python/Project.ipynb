{
  "nbformat": 4,
  "nbformat_minor": 0,
  "metadata": {
    "colab": {
      "provenance": [],
      "authorship_tag": "ABX9TyP18qsw0N4invaFibwQsFHQ",
      "include_colab_link": true
    },
    "kernelspec": {
      "name": "python3",
      "display_name": "Python 3"
    },
    "language_info": {
      "name": "python"
    }
  },
  "cells": [
    {
      "cell_type": "markdown",
      "metadata": {
        "id": "view-in-github",
        "colab_type": "text"
      },
      "source": [
        "<a href=\"https://colab.research.google.com/github/chanxxw/AIFFEL_quest_cr/blob/master/Python/Project.ipynb\" target=\"_parent\"><img src=\"https://colab.research.google.com/assets/colab-badge.svg\" alt=\"Open In Colab\"/></a>"
      ]
    },
    {
      "cell_type": "markdown",
      "source": [
        "## 사각형 넓이 구하는 코드"
      ],
      "metadata": {
        "id": "uxOGnYXuUVDi"
      }
    },
    {
      "cell_type": "code",
      "execution_count": null,
      "metadata": {
        "id": "wHhdEEjyUG4_"
      },
      "outputs": [],
      "source": [
        "# 사각형 넓이를 구하는 클래스 완성!\n",
        "class Square:\n",
        "    def __init__(self):\n",
        "        self.square = int(input('넓이를 구하고 싶은 사각형의 숫자를 써주세요.\\n 1.직사각형 2.평행사변형 3.사다리꼴 \\n >>>'))\n",
        "\n",
        "        if self.square == 1:\n",
        "            print('직사각형 함수는 rect()입니다.')\n",
        "\n",
        "        elif self.square == 2:\n",
        "            print('평행사변형 함수는 par()입니다.')\n",
        "\n",
        "        elif self.square == 3:\n",
        "            print('사다리꼴 함수는 trape()입니다.')\n",
        "\n",
        "        else:\n",
        "            print('1, 2, 3 중에서 다시 입력해주세요')\n",
        "\n",
        "    def rect(self):\n",
        "        width, vertical = map(int, input('가로, 세로를 입력하세요. 예시 : 가로,세로\\n >>>').split(','))\n",
        "        area = width * vertical\n",
        "        result = '직사각형의 넓이는 : ' + str(area)\n",
        "        return result\n",
        "\n",
        "    def par(self):\n",
        "        width, vertical = map(int, input('가로, 높이 입력하세요. 예시 : 가로,세로\\n >>>').split(','))  #가로, 세로를 입력받는 코드\n",
        "        area = width * vertical # [[YOUR CODE]]  # 넓이를 구하는 부분\n",
        "        result = '평행사변형의 넓이는 : ' +str(area) # [[YOUR CODE]]\n",
        "        return result # [[YOUR CODE]]# [[YOUR CODE]]\n",
        "\n",
        "    def trape(self):\n",
        "         width1, width2, vertical = map(int, input('가로1, 가로2, 높이를 입력하세요. 예시 : 가로1,가로2,세로\\n >>>').split(','))  #가로, 세로를 입력받는 코드\n",
        "         area = (width1 + width2)/2 * vertical # [[YOUR CODE]]  # 넓이를 구하는 부분\n",
        "         result = '사다리꼴의 넓이는 : ' +str(area) # [[YOUR CODE]]\n",
        "         return result # [[YOUR CODE]]# [[YOUR CODE]]\n",
        "\n",
        "a = Square()  # 객체 생성 & 2, 3을 각각 입력해 봅시다."
      ]
    },
    {
      "cell_type": "markdown",
      "source": [
        "## 키오스크 제작 코드\n",
        "+ 솔직히 GPT의 도움으로 완성했어요..."
      ],
      "metadata": {
        "id": "p9Ngt8pMUYi9"
      }
    },
    {
      "cell_type": "code",
      "source": [
        "# 문제 3-3. 클래스 업데이트\n",
        "# 앞에서 구현했던 메서드들을 Kiosk 클래스에 추가합니다. 직접 코드를 작성해 보세요!\n",
        "\n",
        "class Kiosk:\n",
        "    def __init__(self):\n",
        "        self.menu = menu\n",
        "        self.price = price\n",
        "\n",
        "    def menu_print(self):\n",
        "        for i in range(len(self.menu)):\n",
        "            print(i + 1, self.menu[i], ' : ', self.price[i], '원')\n",
        "\n",
        "    # 주문 메서드\n",
        "    def menu_select(self):\n",
        "        self.order_menu = []  # 주문 리스트\n",
        "        self.order_price = []  # 가격 리스트\n",
        "\n",
        "        n = 0\n",
        "        while n < 1 or len(menu) < n:\n",
        "            n = int(input(\"음료를 번호를 입력하세요 : \"))  # 음료 번호 입력\n",
        "            if 1 <= n & n <= len(menu):\n",
        "                self.order_price.append(self.price[n-1])  # 가격 리스트에 추가합니다.\n",
        "                self.price_sum = self.price[n-1]  # 합계 금액\n",
        "\n",
        "                # 메뉴판에 없는 번호일 때\n",
        "            else:\n",
        "                print(\"없는 메뉴입니다. 다시 주문해 주세요.\")\n",
        "        t = 0  # 기본값을 넣어주고\n",
        "        while t != 1 and t != 2:  # 1이나 2를 입력할 때까지 물어보기\n",
        "            t= int(input(\"HOT 음료는 1을, ICE 음료는 2를 입력하세요 : \"))\n",
        "            # 문제 2-3의 답을 입력하세요.\n",
        "            if t == 1:\n",
        "                self.temp = \"HOT\"\n",
        "            elif t == 2:\n",
        "                self.temp = \"ICE\"\n",
        "            else:\n",
        "                print(\"1과 2 중 하나를 입력하세요.\\n\")\n",
        "\n",
        "        self.order_menu.append(self.temp + ' ' + self.menu[n-1])  # 주문 리스트에 추가합니다.\n",
        "        print(self.temp, self.menu[n-1], ' : ', self.price[n-1], '원')  # 온도 속성을 추가한 주문 결과를 출력합니다.\n",
        "\n",
        "        while n != 0:  # 지불을 선택하기 전까지 반복합니다.\n",
        "            print()  # 줄 바꾸면서\n",
        "            n = int(input(\"추가 주문은 음료 번호를, 지불은 0을 누르세요 : \"))  # 추가 주문 또는 지불\n",
        "            if n > 0 and n < len(self.menu) + 1:\n",
        "                t = 0\n",
        "                while t != 1 and t != 2:  # 1이나 2를 입력할 때까지 물어보기\n",
        "                    t = int(input(\"HOT 음료는 1을, ICE 음료는 2를 입력하세요 : \"))\n",
        "                    if t == 1:\n",
        "                        self.temp = \"HOT\"\n",
        "                    elif t == 2:\n",
        "                        self.temp = \"ICE\"\n",
        "                    else:\n",
        "                        print(\"1과 2 중 하나를 입력하세요.\\n\")\n",
        "                self.order_menu.append(self.temp + ' ' + self.menu[n-1])  # 주문 리스트에 추가합니다.\n",
        "                self.order_price.append(self.price[n-1])  # 가격 리스트에 추가합니다.\n",
        "                self.price_sum += self.price[n-1]  # 합계 금액 업데이트\n",
        "\n",
        "                print('추가 주문 음료', self.temp, self.menu[n-1], ':', self.price[n-1], '원\\n', '합계 : ', self.price_sum, '원')\n",
        "            else :\n",
        "                if n == 0 :  # 지불을 입력하면\n",
        "                    print(\"주문이 완료되었습니다.\")\n",
        "                    print(self.order_menu, self.order_price)  # 확인을 위한 리스트를 출력합니다.\n",
        "                else :  # 없는 번호를 입력할 때\n",
        "                    print(\"없는 메뉴입니다. 다시 주문해 주세요.\")\n",
        "    # 지불\n",
        "    def pay(self):\n",
        "        payment_method = input(\"지불 방법을 선택하세요 (현금: 'cash' 또는 1, 카드: 'card' 또는 2): \").strip().lower()\n",
        "        if payment_method == 'cash' or payment_method == '1':\n",
        "            print('직원을 호출하겠습니다.')\n",
        "        elif payment_method == 'card' or payment_method == '2':\n",
        "            print('IC칩 방향에 맞게 카드를 꽂아주세요.')\n",
        "        else:\n",
        "            print('유효하지 않은 입력입니다. 다시 시도해주세요.')\n",
        "\n",
        "    # 주문서 출력\n",
        "    def table(self):        # 외곽 출력\n",
        "        print('⟝' + '-' * 30 + '⟞')\n",
        "        for i in range(5):\n",
        "            print('|' + ' ' * 31 + '|')\n",
        "\n",
        "        # 주문 상품명 : 해당 금액 출력\n",
        "        for i in range(len(self.order_menu)):\n",
        "            print(self.order_menu[i], ' : ', str(self.order_price[i]), '원')\n",
        "\n",
        "        # 합계 금액 출력\n",
        "        print('합계 금액 :', str(self.price_sum), '원')\n",
        "\n",
        "        # 외곽 출력\n",
        "        for i in range(5):\n",
        "            print('|' + ' ' * 31 + '|')\n",
        "        print('⟝' + '-' * 30 + '⟞')"
      ],
      "metadata": {
        "id": "L_FaEYY0UdPO"
      },
      "execution_count": null,
      "outputs": []
    }
  ]
}